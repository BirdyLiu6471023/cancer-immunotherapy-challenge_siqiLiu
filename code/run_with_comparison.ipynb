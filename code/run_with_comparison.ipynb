{
 "cells": [
  {
   "cell_type": "markdown",
   "metadata": {},
   "source": [
    "# load useful libraries"
   ]
  },
  {
   "cell_type": "code",
   "execution_count": 1,
   "metadata": {
    "execution": {
     "iopub.execute_input": "2023-01-27T15:39:24.749802Z",
     "iopub.status.busy": "2023-01-27T15:39:24.749374Z",
     "iopub.status.idle": "2023-01-27T15:39:33.870437Z",
     "shell.execute_reply": "2023-01-27T15:39:33.869679Z",
     "shell.execute_reply.started": "2023-01-27T15:39:24.749730Z"
    },
    "tags": []
   },
   "outputs": [
    {
     "name": "stdout",
     "output_type": "stream",
     "text": [
      "scanpy==1.9.1 anndata==0.8.0 umap==0.5.3 numpy==1.21.6 scipy==1.8.0 pandas==1.5.1 scikit-learn==1.1.2 statsmodels==0.13.2 python-igraph==0.10.2 pynndescent==0.5.7\n"
     ]
    }
   ],
   "source": [
    "import scanpy as sc\n",
    "\n",
    "from warnings import filterwarnings\n",
    "filterwarnings('ignore')\n",
    "\n",
    "sc.settings.verbosity = 3\n",
    "sc.logging.print_header()\n",
    "sc.settings.set_figure_params(dpi=80, facecolor='white')"
   ]
  },
  {
   "cell_type": "markdown",
   "metadata": {},
   "source": [
    "# read data"
   ]
  },
  {
   "cell_type": "code",
   "execution_count": 2,
   "metadata": {
    "execution": {
     "iopub.execute_input": "2023-01-27T15:39:33.872919Z",
     "iopub.status.busy": "2023-01-27T15:39:33.872225Z",
     "iopub.status.idle": "2023-01-27T15:39:42.552588Z",
     "shell.execute_reply": "2023-01-27T15:39:42.551996Z",
     "shell.execute_reply.started": "2023-01-27T15:39:33.872887Z"
    },
    "tags": []
   },
   "outputs": [
    {
     "data": {
      "text/plain": [
       "AnnData object with n_obs × n_vars = 28697 × 15077\n",
       "    obs: 'gRNA_maxID', 'state', 'condition', 'lane'\n",
       "    layers: 'rawcounts'"
      ]
     },
     "execution_count": 2,
     "metadata": {},
     "output_type": "execute_result"
    }
   ],
   "source": [
    "adata = sc.read_h5ad('./sc_training.h5ad')\n",
    "adata"
   ]
  },
  {
   "cell_type": "code",
   "execution_count": 3,
   "metadata": {
    "execution": {
     "iopub.execute_input": "2023-01-27T15:39:42.554462Z",
     "iopub.status.busy": "2023-01-27T15:39:42.553645Z",
     "iopub.status.idle": "2023-01-27T15:39:42.560920Z",
     "shell.execute_reply": "2023-01-27T15:39:42.560128Z",
     "shell.execute_reply.started": "2023-01-27T15:39:42.554429Z"
    },
    "tags": []
   },
   "outputs": [
    {
     "name": "stdout",
     "output_type": "stream",
     "text": [
      "There are totally 5 states, they are: ['terminal exhausted', 'effector', 'cycling', 'progenitor', 'other'].\n"
     ]
    }
   ],
   "source": [
    "print(f\"There are totally {len(adata.obs.state.unique())} states, they are: {list(adata.obs.state.unique())}.\")"
   ]
  },
  {
   "cell_type": "code",
   "execution_count": 4,
   "metadata": {
    "execution": {
     "iopub.execute_input": "2023-01-27T15:39:42.562896Z",
     "iopub.status.busy": "2023-01-27T15:39:42.562545Z",
     "iopub.status.idle": "2023-01-27T15:39:42.567118Z",
     "shell.execute_reply": "2023-01-27T15:39:42.566478Z",
     "shell.execute_reply.started": "2023-01-27T15:39:42.562866Z"
    },
    "tags": []
   },
   "outputs": [
    {
     "name": "stdout",
     "output_type": "stream",
     "text": [
      "There are totally 67 type of gene experiments, which is consistent to description that 66 gene knockouts with unperturb.\n"
     ]
    }
   ],
   "source": [
    "print(f\"There are totally {len(adata.obs.condition.unique())} type of gene experiments, which is consistent to description that 66 gene knockouts with unperturb.\")"
   ]
  },
  {
   "cell_type": "markdown",
   "metadata": {},
   "source": [
    "# adata.X stores the stadard-normalized data, but you can also reconstruct it using adata.layers['rawcounts']"
   ]
  },
  {
   "cell_type": "code",
   "execution_count": 5,
   "metadata": {
    "execution": {
     "iopub.execute_input": "2023-01-27T15:39:42.568430Z",
     "iopub.status.busy": "2023-01-27T15:39:42.568092Z",
     "iopub.status.idle": "2023-01-27T15:39:42.807425Z",
     "shell.execute_reply": "2023-01-27T15:39:42.806718Z",
     "shell.execute_reply.started": "2023-01-27T15:39:42.568401Z"
    },
    "tags": []
   },
   "outputs": [],
   "source": [
    "# make a copy of normalized logcounts\n",
    "adata.layers['normalized_logcounts'] = adata.X.copy()"
   ]
  },
  {
   "cell_type": "code",
   "execution_count": 6,
   "metadata": {
    "execution": {
     "iopub.execute_input": "2023-01-27T15:39:42.809206Z",
     "iopub.status.busy": "2023-01-27T15:39:42.808723Z",
     "iopub.status.idle": "2023-01-27T15:39:44.332708Z",
     "shell.execute_reply": "2023-01-27T15:39:44.331578Z",
     "shell.execute_reply.started": "2023-01-27T15:39:42.809175Z"
    },
    "tags": []
   },
   "outputs": [],
   "source": [
    "# transform the data into \n",
    "import pandas as pd\n",
    "df_full = pd.DataFrame(adata.X.toarray())"
   ]
  },
  {
   "cell_type": "code",
   "execution_count": 7,
   "metadata": {
    "execution": {
     "iopub.execute_input": "2023-01-27T15:39:44.334778Z",
     "iopub.status.busy": "2023-01-27T15:39:44.334038Z",
     "iopub.status.idle": "2023-01-27T15:39:44.342766Z",
     "shell.execute_reply": "2023-01-27T15:39:44.342016Z",
     "shell.execute_reply.started": "2023-01-27T15:39:44.334745Z"
    },
    "tags": []
   },
   "outputs": [
    {
     "data": {
      "text/plain": [
       "1923.6214851140976"
      ]
     },
     "execution_count": 7,
     "metadata": {},
     "output_type": "execute_result"
    }
   ],
   "source": [
    "sum(df_full.iloc[0,:])"
   ]
  },
  {
   "cell_type": "code",
   "execution_count": 8,
   "metadata": {
    "execution": {
     "iopub.execute_input": "2023-01-27T15:39:44.344129Z",
     "iopub.status.busy": "2023-01-27T15:39:44.343654Z",
     "iopub.status.idle": "2023-01-27T15:39:46.254684Z",
     "shell.execute_reply": "2023-01-27T15:39:46.254025Z",
     "shell.execute_reply.started": "2023-01-27T15:39:44.344100Z"
    },
    "tags": []
   },
   "outputs": [
    {
     "name": "stdout",
     "output_type": "stream",
     "text": [
      "normalizing counts per cell\n",
      "    finished (0:00:00)\n"
     ]
    }
   ],
   "source": [
    "# standard normalization\n",
    "adata.X = adata.layers['rawcounts'].copy()\n",
    "\n",
    "sc.pp.normalize_total(adata, target_sum=5e3)\n",
    "sc.pp.log1p(adata)"
   ]
  },
  {
   "cell_type": "markdown",
   "metadata": {},
   "source": [
    "## Challenge 1:\n",
    "\n",
    "### Requirements: \n",
    "\n",
    "Predict the cell-state distribution of the held-out genes: For For each of the 7 held-out knockouts (targeting genes 'Aqr', 'Bach2', 'Bhlhe40', 'Ets1', 'Fosb', 'Mafk', 'Stat3'), predict the resulting 5-dimensional vector of cell state proportions (a,b,c,d,e), where ['progenitor', 'effector', 'terminal exhausted', 'cycling', 'other']. \n",
    "> a+b+c+d+e=1"
   ]
  },
  {
   "cell_type": "code",
   "execution_count": 9,
   "metadata": {
    "execution": {
     "iopub.execute_input": "2023-01-27T15:39:46.256007Z",
     "iopub.status.busy": "2023-01-27T15:39:46.255638Z",
     "iopub.status.idle": "2023-01-27T15:39:46.262840Z",
     "shell.execute_reply": "2023-01-27T15:39:46.262185Z",
     "shell.execute_reply.started": "2023-01-27T15:39:46.255978Z"
    },
    "tags": []
   },
   "outputs": [],
   "source": [
    "held_out = ['Aqr', 'Bach2', 'Bhlhe40', 'Ets1', 'Fosb', 'Mafk', 'Stat3']\n",
    "training = list(adata.obs.condition.unique())\n",
    "for i in held_out:\n",
    "    if i in training:\n",
    "        print(\"This should be in validation dataset.\")"
   ]
  },
  {
   "cell_type": "markdown",
   "metadata": {},
   "source": [
    "### Scoring: \n",
    "\n",
    "L1-loss: Mean Absolute Error, example:\n",
    "> Actual: (0.2,0.1,0.3,0,0.4)\n",
    "\n",
    "> Predict: (0.19,0.11,0.28,0,0.42)\n",
    "\n",
    "> Loss = |0.2-0.19|+|0.1-0.11|+|0.3-0.28|+|0-0|+|0.4-0.42|=0.06."
   ]
  },
  {
   "cell_type": "code",
   "execution_count": 10,
   "metadata": {
    "execution": {
     "iopub.execute_input": "2023-01-27T15:39:46.265048Z",
     "iopub.status.busy": "2023-01-27T15:39:46.264748Z",
     "iopub.status.idle": "2023-01-27T15:39:46.274069Z",
     "shell.execute_reply": "2023-01-27T15:39:46.273384Z",
     "shell.execute_reply.started": "2023-01-27T15:39:46.265019Z"
    },
    "tags": []
   },
   "outputs": [
    {
     "data": {
      "text/plain": [
       "state\n",
       "cycling               1952\n",
       "effector              1044\n",
       "other                   86\n",
       "progenitor             336\n",
       "terminal exhausted    1560\n",
       "Name: condition, dtype: int64"
      ]
     },
     "execution_count": 10,
     "metadata": {},
     "output_type": "execute_result"
    }
   ],
   "source": [
    "df_obs = adata.obs.copy()\n",
    "df_obs = df_obs.reset_index()\n",
    "df_obs[df_obs.condition == \"Unperturbed\"].groupby(\"state\").condition.count()"
   ]
  },
  {
   "cell_type": "markdown",
   "metadata": {},
   "source": [
    "## Attempt 1 for Challenge 1: "
   ]
  },
  {
   "cell_type": "code",
   "execution_count": 11,
   "metadata": {
    "execution": {
     "iopub.execute_input": "2023-01-27T15:39:46.275453Z",
     "iopub.status.busy": "2023-01-27T15:39:46.275144Z",
     "iopub.status.idle": "2023-01-27T15:39:46.288870Z",
     "shell.execute_reply": "2023-01-27T15:39:46.288242Z",
     "shell.execute_reply.started": "2023-01-27T15:39:46.275425Z"
    },
    "tags": []
   },
   "outputs": [
    {
     "data": {
      "text/html": [
       "<div>\n",
       "<style scoped>\n",
       "    .dataframe tbody tr th:only-of-type {\n",
       "        vertical-align: middle;\n",
       "    }\n",
       "\n",
       "    .dataframe tbody tr th {\n",
       "        vertical-align: top;\n",
       "    }\n",
       "\n",
       "    .dataframe thead th {\n",
       "        text-align: right;\n",
       "    }\n",
       "</style>\n",
       "<table border=\"1\" class=\"dataframe\">\n",
       "  <thead>\n",
       "    <tr style=\"text-align: right;\">\n",
       "      <th></th>\n",
       "      <th>index</th>\n",
       "      <th>gRNA_maxID</th>\n",
       "      <th>state</th>\n",
       "      <th>condition</th>\n",
       "      <th>lane</th>\n",
       "    </tr>\n",
       "  </thead>\n",
       "  <tbody>\n",
       "    <tr>\n",
       "      <th>0</th>\n",
       "      <td>053l1_AAACCTGAGATGTCGG-1</td>\n",
       "      <td>ONE-NON-GENE-SITE-7</td>\n",
       "      <td>terminal exhausted</td>\n",
       "      <td>Unperturbed</td>\n",
       "      <td>lane1</td>\n",
       "    </tr>\n",
       "    <tr>\n",
       "      <th>1</th>\n",
       "      <td>053l1_AAACCTGAGCAACGGT-1</td>\n",
       "      <td>Tox2-3</td>\n",
       "      <td>effector</td>\n",
       "      <td>Tox2</td>\n",
       "      <td>lane1</td>\n",
       "    </tr>\n",
       "    <tr>\n",
       "      <th>2</th>\n",
       "      <td>053l1_AAACCTGAGTACGACG-1</td>\n",
       "      <td>Tpt1-2</td>\n",
       "      <td>effector</td>\n",
       "      <td>Tpt1</td>\n",
       "      <td>lane1</td>\n",
       "    </tr>\n",
       "    <tr>\n",
       "      <th>3</th>\n",
       "      <td>053l1_AAACCTGAGTCGTTTG-1</td>\n",
       "      <td>Tox2-3</td>\n",
       "      <td>terminal exhausted</td>\n",
       "      <td>Tox2</td>\n",
       "      <td>lane1</td>\n",
       "    </tr>\n",
       "    <tr>\n",
       "      <th>4</th>\n",
       "      <td>053l1_AAACCTGAGTGAAGAG-1</td>\n",
       "      <td>Tcf7-2</td>\n",
       "      <td>effector</td>\n",
       "      <td>Tcf7</td>\n",
       "      <td>lane1</td>\n",
       "    </tr>\n",
       "    <tr>\n",
       "      <th>...</th>\n",
       "      <td>...</td>\n",
       "      <td>...</td>\n",
       "      <td>...</td>\n",
       "      <td>...</td>\n",
       "      <td>...</td>\n",
       "    </tr>\n",
       "    <tr>\n",
       "      <th>28692</th>\n",
       "      <td>053l4_TTTGTCATCAGGTTCA-1</td>\n",
       "      <td>Tox2-3</td>\n",
       "      <td>other</td>\n",
       "      <td>Tox2</td>\n",
       "      <td>lane4</td>\n",
       "    </tr>\n",
       "    <tr>\n",
       "      <th>28693</th>\n",
       "      <td>053l4_TTTGTCATCAGTGTTG-1</td>\n",
       "      <td>Dvl2-3</td>\n",
       "      <td>cycling</td>\n",
       "      <td>Dvl2</td>\n",
       "      <td>lane4</td>\n",
       "    </tr>\n",
       "    <tr>\n",
       "      <th>28694</th>\n",
       "      <td>053l4_TTTGTCATCCTCGCAT-1</td>\n",
       "      <td>Zeb2-2</td>\n",
       "      <td>cycling</td>\n",
       "      <td>Zeb2</td>\n",
       "      <td>lane4</td>\n",
       "    </tr>\n",
       "    <tr>\n",
       "      <th>28695</th>\n",
       "      <td>053l4_TTTGTCATCTTCAACT-1</td>\n",
       "      <td>Sox4-3</td>\n",
       "      <td>cycling</td>\n",
       "      <td>Sox4</td>\n",
       "      <td>lane4</td>\n",
       "    </tr>\n",
       "    <tr>\n",
       "      <th>28696</th>\n",
       "      <td>053l4_TTTGTCATCTTTCCTC-1</td>\n",
       "      <td>Dvl2-3</td>\n",
       "      <td>cycling</td>\n",
       "      <td>Dvl2</td>\n",
       "      <td>lane4</td>\n",
       "    </tr>\n",
       "  </tbody>\n",
       "</table>\n",
       "<p>28697 rows × 5 columns</p>\n",
       "</div>"
      ],
      "text/plain": [
       "                          index           gRNA_maxID               state  \\\n",
       "0      053l1_AAACCTGAGATGTCGG-1  ONE-NON-GENE-SITE-7  terminal exhausted   \n",
       "1      053l1_AAACCTGAGCAACGGT-1               Tox2-3            effector   \n",
       "2      053l1_AAACCTGAGTACGACG-1               Tpt1-2            effector   \n",
       "3      053l1_AAACCTGAGTCGTTTG-1               Tox2-3  terminal exhausted   \n",
       "4      053l1_AAACCTGAGTGAAGAG-1               Tcf7-2            effector   \n",
       "...                         ...                  ...                 ...   \n",
       "28692  053l4_TTTGTCATCAGGTTCA-1               Tox2-3               other   \n",
       "28693  053l4_TTTGTCATCAGTGTTG-1               Dvl2-3             cycling   \n",
       "28694  053l4_TTTGTCATCCTCGCAT-1               Zeb2-2             cycling   \n",
       "28695  053l4_TTTGTCATCTTCAACT-1               Sox4-3             cycling   \n",
       "28696  053l4_TTTGTCATCTTTCCTC-1               Dvl2-3             cycling   \n",
       "\n",
       "         condition   lane  \n",
       "0      Unperturbed  lane1  \n",
       "1             Tox2  lane1  \n",
       "2             Tpt1  lane1  \n",
       "3             Tox2  lane1  \n",
       "4             Tcf7  lane1  \n",
       "...            ...    ...  \n",
       "28692         Tox2  lane4  \n",
       "28693         Dvl2  lane4  \n",
       "28694         Zeb2  lane4  \n",
       "28695         Sox4  lane4  \n",
       "28696         Dvl2  lane4  \n",
       "\n",
       "[28697 rows x 5 columns]"
      ]
     },
     "execution_count": 11,
     "metadata": {},
     "output_type": "execute_result"
    }
   ],
   "source": [
    "df_obs"
   ]
  },
  {
   "cell_type": "code",
   "execution_count": 12,
   "metadata": {
    "execution": {
     "iopub.execute_input": "2023-01-27T15:39:46.290337Z",
     "iopub.status.busy": "2023-01-27T15:39:46.290041Z",
     "iopub.status.idle": "2023-01-27T15:39:46.350891Z",
     "shell.execute_reply": "2023-01-27T15:39:46.350179Z",
     "shell.execute_reply.started": "2023-01-27T15:39:46.290309Z"
    },
    "tags": []
   },
   "outputs": [
    {
     "data": {
      "text/html": [
       "<div>\n",
       "<style scoped>\n",
       "    .dataframe tbody tr th:only-of-type {\n",
       "        vertical-align: middle;\n",
       "    }\n",
       "\n",
       "    .dataframe tbody tr th {\n",
       "        vertical-align: top;\n",
       "    }\n",
       "\n",
       "    .dataframe thead th {\n",
       "        text-align: right;\n",
       "    }\n",
       "</style>\n",
       "<table border=\"1\" class=\"dataframe\">\n",
       "  <thead>\n",
       "    <tr style=\"text-align: right;\">\n",
       "      <th></th>\n",
       "      <th>Mrpl15</th>\n",
       "      <th>Lypla1</th>\n",
       "      <th>Tcea1</th>\n",
       "      <th>Atp6v1h</th>\n",
       "      <th>Rb1cc1</th>\n",
       "      <th>4732440D04Rik</th>\n",
       "      <th>Pcmtd1</th>\n",
       "      <th>Gm26901</th>\n",
       "      <th>Rrs1</th>\n",
       "      <th>Adhfe1</th>\n",
       "      <th>...</th>\n",
       "      <th>Slc3a1</th>\n",
       "      <th>Cfap53</th>\n",
       "      <th>Pstpip2</th>\n",
       "      <th>Gm17227</th>\n",
       "      <th>Ms4a8a</th>\n",
       "      <th>9130016M20Rik</th>\n",
       "      <th>Htr7</th>\n",
       "      <th>Col17a1</th>\n",
       "      <th>Awat2</th>\n",
       "      <th>Amot</th>\n",
       "    </tr>\n",
       "  </thead>\n",
       "  <tbody>\n",
       "    <tr>\n",
       "      <th>0</th>\n",
       "      <td>0.511520</td>\n",
       "      <td>0.000000</td>\n",
       "      <td>0.000000</td>\n",
       "      <td>0.000000</td>\n",
       "      <td>0.000000</td>\n",
       "      <td>0.000000</td>\n",
       "      <td>0.000000</td>\n",
       "      <td>0.0</td>\n",
       "      <td>0.000000</td>\n",
       "      <td>0.0</td>\n",
       "      <td>...</td>\n",
       "      <td>0.0</td>\n",
       "      <td>0.0</td>\n",
       "      <td>0.0</td>\n",
       "      <td>0.0</td>\n",
       "      <td>0.0</td>\n",
       "      <td>0.0</td>\n",
       "      <td>0.0</td>\n",
       "      <td>0.0</td>\n",
       "      <td>0.0</td>\n",
       "      <td>0.0</td>\n",
       "    </tr>\n",
       "    <tr>\n",
       "      <th>1</th>\n",
       "      <td>0.484165</td>\n",
       "      <td>0.484165</td>\n",
       "      <td>0.808991</td>\n",
       "      <td>0.000000</td>\n",
       "      <td>0.000000</td>\n",
       "      <td>0.000000</td>\n",
       "      <td>0.000000</td>\n",
       "      <td>0.0</td>\n",
       "      <td>0.484165</td>\n",
       "      <td>0.0</td>\n",
       "      <td>...</td>\n",
       "      <td>0.0</td>\n",
       "      <td>0.0</td>\n",
       "      <td>0.0</td>\n",
       "      <td>0.0</td>\n",
       "      <td>0.0</td>\n",
       "      <td>0.0</td>\n",
       "      <td>0.0</td>\n",
       "      <td>0.0</td>\n",
       "      <td>0.0</td>\n",
       "      <td>0.0</td>\n",
       "    </tr>\n",
       "    <tr>\n",
       "      <th>2</th>\n",
       "      <td>0.000000</td>\n",
       "      <td>0.000000</td>\n",
       "      <td>0.000000</td>\n",
       "      <td>0.000000</td>\n",
       "      <td>0.000000</td>\n",
       "      <td>0.000000</td>\n",
       "      <td>0.693748</td>\n",
       "      <td>0.0</td>\n",
       "      <td>0.000000</td>\n",
       "      <td>0.0</td>\n",
       "      <td>...</td>\n",
       "      <td>0.0</td>\n",
       "      <td>0.0</td>\n",
       "      <td>0.0</td>\n",
       "      <td>0.0</td>\n",
       "      <td>0.0</td>\n",
       "      <td>0.0</td>\n",
       "      <td>0.0</td>\n",
       "      <td>0.0</td>\n",
       "      <td>0.0</td>\n",
       "      <td>0.0</td>\n",
       "    </tr>\n",
       "    <tr>\n",
       "      <th>3</th>\n",
       "      <td>0.000000</td>\n",
       "      <td>0.000000</td>\n",
       "      <td>0.000000</td>\n",
       "      <td>0.000000</td>\n",
       "      <td>0.000000</td>\n",
       "      <td>0.000000</td>\n",
       "      <td>0.000000</td>\n",
       "      <td>0.0</td>\n",
       "      <td>0.000000</td>\n",
       "      <td>0.0</td>\n",
       "      <td>...</td>\n",
       "      <td>0.0</td>\n",
       "      <td>0.0</td>\n",
       "      <td>0.0</td>\n",
       "      <td>0.0</td>\n",
       "      <td>0.0</td>\n",
       "      <td>0.0</td>\n",
       "      <td>0.0</td>\n",
       "      <td>0.0</td>\n",
       "      <td>0.0</td>\n",
       "      <td>0.0</td>\n",
       "    </tr>\n",
       "    <tr>\n",
       "      <th>4</th>\n",
       "      <td>0.000000</td>\n",
       "      <td>0.000000</td>\n",
       "      <td>0.000000</td>\n",
       "      <td>0.000000</td>\n",
       "      <td>0.000000</td>\n",
       "      <td>0.000000</td>\n",
       "      <td>0.000000</td>\n",
       "      <td>0.0</td>\n",
       "      <td>0.000000</td>\n",
       "      <td>0.0</td>\n",
       "      <td>...</td>\n",
       "      <td>0.0</td>\n",
       "      <td>0.0</td>\n",
       "      <td>0.0</td>\n",
       "      <td>0.0</td>\n",
       "      <td>0.0</td>\n",
       "      <td>0.0</td>\n",
       "      <td>0.0</td>\n",
       "      <td>0.0</td>\n",
       "      <td>0.0</td>\n",
       "      <td>0.0</td>\n",
       "    </tr>\n",
       "    <tr>\n",
       "      <th>...</th>\n",
       "      <td>...</td>\n",
       "      <td>...</td>\n",
       "      <td>...</td>\n",
       "      <td>...</td>\n",
       "      <td>...</td>\n",
       "      <td>...</td>\n",
       "      <td>...</td>\n",
       "      <td>...</td>\n",
       "      <td>...</td>\n",
       "      <td>...</td>\n",
       "      <td>...</td>\n",
       "      <td>...</td>\n",
       "      <td>...</td>\n",
       "      <td>...</td>\n",
       "      <td>...</td>\n",
       "      <td>...</td>\n",
       "      <td>...</td>\n",
       "      <td>...</td>\n",
       "      <td>...</td>\n",
       "      <td>...</td>\n",
       "      <td>...</td>\n",
       "    </tr>\n",
       "    <tr>\n",
       "      <th>28692</th>\n",
       "      <td>0.000000</td>\n",
       "      <td>0.000000</td>\n",
       "      <td>0.000000</td>\n",
       "      <td>0.000000</td>\n",
       "      <td>0.000000</td>\n",
       "      <td>0.000000</td>\n",
       "      <td>0.000000</td>\n",
       "      <td>0.0</td>\n",
       "      <td>0.000000</td>\n",
       "      <td>0.0</td>\n",
       "      <td>...</td>\n",
       "      <td>0.0</td>\n",
       "      <td>0.0</td>\n",
       "      <td>0.0</td>\n",
       "      <td>0.0</td>\n",
       "      <td>0.0</td>\n",
       "      <td>0.0</td>\n",
       "      <td>0.0</td>\n",
       "      <td>0.0</td>\n",
       "      <td>0.0</td>\n",
       "      <td>0.0</td>\n",
       "    </tr>\n",
       "    <tr>\n",
       "      <th>28693</th>\n",
       "      <td>0.530879</td>\n",
       "      <td>0.300263</td>\n",
       "      <td>0.875825</td>\n",
       "      <td>0.300263</td>\n",
       "      <td>0.000000</td>\n",
       "      <td>0.000000</td>\n",
       "      <td>0.000000</td>\n",
       "      <td>0.0</td>\n",
       "      <td>0.000000</td>\n",
       "      <td>0.0</td>\n",
       "      <td>...</td>\n",
       "      <td>0.0</td>\n",
       "      <td>0.0</td>\n",
       "      <td>0.0</td>\n",
       "      <td>0.0</td>\n",
       "      <td>0.0</td>\n",
       "      <td>0.0</td>\n",
       "      <td>0.0</td>\n",
       "      <td>0.0</td>\n",
       "      <td>0.0</td>\n",
       "      <td>0.0</td>\n",
       "    </tr>\n",
       "    <tr>\n",
       "      <th>28694</th>\n",
       "      <td>0.000000</td>\n",
       "      <td>0.000000</td>\n",
       "      <td>0.000000</td>\n",
       "      <td>0.515672</td>\n",
       "      <td>0.515672</td>\n",
       "      <td>0.000000</td>\n",
       "      <td>0.000000</td>\n",
       "      <td>0.0</td>\n",
       "      <td>0.000000</td>\n",
       "      <td>0.0</td>\n",
       "      <td>...</td>\n",
       "      <td>0.0</td>\n",
       "      <td>0.0</td>\n",
       "      <td>0.0</td>\n",
       "      <td>0.0</td>\n",
       "      <td>0.0</td>\n",
       "      <td>0.0</td>\n",
       "      <td>0.0</td>\n",
       "      <td>0.0</td>\n",
       "      <td>0.0</td>\n",
       "      <td>0.0</td>\n",
       "    </tr>\n",
       "    <tr>\n",
       "      <th>28695</th>\n",
       "      <td>0.383328</td>\n",
       "      <td>0.000000</td>\n",
       "      <td>0.383328</td>\n",
       "      <td>0.000000</td>\n",
       "      <td>0.383328</td>\n",
       "      <td>0.000000</td>\n",
       "      <td>0.000000</td>\n",
       "      <td>0.0</td>\n",
       "      <td>0.383328</td>\n",
       "      <td>0.0</td>\n",
       "      <td>...</td>\n",
       "      <td>0.0</td>\n",
       "      <td>0.0</td>\n",
       "      <td>0.0</td>\n",
       "      <td>0.0</td>\n",
       "      <td>0.0</td>\n",
       "      <td>0.0</td>\n",
       "      <td>0.0</td>\n",
       "      <td>0.0</td>\n",
       "      <td>0.0</td>\n",
       "      <td>0.0</td>\n",
       "    </tr>\n",
       "    <tr>\n",
       "      <th>28696</th>\n",
       "      <td>0.000000</td>\n",
       "      <td>0.000000</td>\n",
       "      <td>0.000000</td>\n",
       "      <td>0.857639</td>\n",
       "      <td>0.000000</td>\n",
       "      <td>0.857639</td>\n",
       "      <td>0.000000</td>\n",
       "      <td>0.0</td>\n",
       "      <td>0.000000</td>\n",
       "      <td>0.0</td>\n",
       "      <td>...</td>\n",
       "      <td>0.0</td>\n",
       "      <td>0.0</td>\n",
       "      <td>0.0</td>\n",
       "      <td>0.0</td>\n",
       "      <td>0.0</td>\n",
       "      <td>0.0</td>\n",
       "      <td>0.0</td>\n",
       "      <td>0.0</td>\n",
       "      <td>0.0</td>\n",
       "      <td>0.0</td>\n",
       "    </tr>\n",
       "  </tbody>\n",
       "</table>\n",
       "<p>28697 rows × 15077 columns</p>\n",
       "</div>"
      ],
      "text/plain": [
       "         Mrpl15    Lypla1     Tcea1   Atp6v1h    Rb1cc1  4732440D04Rik  \\\n",
       "0      0.511520  0.000000  0.000000  0.000000  0.000000       0.000000   \n",
       "1      0.484165  0.484165  0.808991  0.000000  0.000000       0.000000   \n",
       "2      0.000000  0.000000  0.000000  0.000000  0.000000       0.000000   \n",
       "3      0.000000  0.000000  0.000000  0.000000  0.000000       0.000000   \n",
       "4      0.000000  0.000000  0.000000  0.000000  0.000000       0.000000   \n",
       "...         ...       ...       ...       ...       ...            ...   \n",
       "28692  0.000000  0.000000  0.000000  0.000000  0.000000       0.000000   \n",
       "28693  0.530879  0.300263  0.875825  0.300263  0.000000       0.000000   \n",
       "28694  0.000000  0.000000  0.000000  0.515672  0.515672       0.000000   \n",
       "28695  0.383328  0.000000  0.383328  0.000000  0.383328       0.000000   \n",
       "28696  0.000000  0.000000  0.000000  0.857639  0.000000       0.857639   \n",
       "\n",
       "         Pcmtd1  Gm26901      Rrs1  Adhfe1  ...  Slc3a1  Cfap53  Pstpip2  \\\n",
       "0      0.000000      0.0  0.000000     0.0  ...     0.0     0.0      0.0   \n",
       "1      0.000000      0.0  0.484165     0.0  ...     0.0     0.0      0.0   \n",
       "2      0.693748      0.0  0.000000     0.0  ...     0.0     0.0      0.0   \n",
       "3      0.000000      0.0  0.000000     0.0  ...     0.0     0.0      0.0   \n",
       "4      0.000000      0.0  0.000000     0.0  ...     0.0     0.0      0.0   \n",
       "...         ...      ...       ...     ...  ...     ...     ...      ...   \n",
       "28692  0.000000      0.0  0.000000     0.0  ...     0.0     0.0      0.0   \n",
       "28693  0.000000      0.0  0.000000     0.0  ...     0.0     0.0      0.0   \n",
       "28694  0.000000      0.0  0.000000     0.0  ...     0.0     0.0      0.0   \n",
       "28695  0.000000      0.0  0.383328     0.0  ...     0.0     0.0      0.0   \n",
       "28696  0.000000      0.0  0.000000     0.0  ...     0.0     0.0      0.0   \n",
       "\n",
       "       Gm17227  Ms4a8a  9130016M20Rik  Htr7  Col17a1  Awat2  Amot  \n",
       "0          0.0     0.0            0.0   0.0      0.0    0.0   0.0  \n",
       "1          0.0     0.0            0.0   0.0      0.0    0.0   0.0  \n",
       "2          0.0     0.0            0.0   0.0      0.0    0.0   0.0  \n",
       "3          0.0     0.0            0.0   0.0      0.0    0.0   0.0  \n",
       "4          0.0     0.0            0.0   0.0      0.0    0.0   0.0  \n",
       "...        ...     ...            ...   ...      ...    ...   ...  \n",
       "28692      0.0     0.0            0.0   0.0      0.0    0.0   0.0  \n",
       "28693      0.0     0.0            0.0   0.0      0.0    0.0   0.0  \n",
       "28694      0.0     0.0            0.0   0.0      0.0    0.0   0.0  \n",
       "28695      0.0     0.0            0.0   0.0      0.0    0.0   0.0  \n",
       "28696      0.0     0.0            0.0   0.0      0.0    0.0   0.0  \n",
       "\n",
       "[28697 rows x 15077 columns]"
      ]
     },
     "execution_count": 12,
     "metadata": {},
     "output_type": "execute_result"
    }
   ],
   "source": [
    "df_full.columns = list(adata.var_names)\n",
    "df_full"
   ]
  },
  {
   "cell_type": "markdown",
   "metadata": {
    "execution": {
     "iopub.execute_input": "2023-01-10T17:11:31.455192Z",
     "iopub.status.busy": "2023-01-10T17:11:31.454841Z",
     "iopub.status.idle": "2023-01-10T17:11:31.458289Z",
     "shell.execute_reply": "2023-01-10T17:11:31.457613Z",
     "shell.execute_reply.started": "2023-01-10T17:11:31.455166Z"
    },
    "tags": []
   },
   "source": [
    "### Inspecting Data: getting some basic information about the data: "
   ]
  },
  {
   "cell_type": "code",
   "execution_count": 13,
   "metadata": {
    "execution": {
     "iopub.execute_input": "2023-01-26T16:27:45.125872Z",
     "iopub.status.busy": "2023-01-26T16:27:45.125591Z",
     "iopub.status.idle": "2023-01-26T16:27:45.154368Z",
     "shell.execute_reply": "2023-01-26T16:27:45.153580Z",
     "shell.execute_reply.started": "2023-01-26T16:27:45.125845Z"
    },
    "tags": []
   },
   "outputs": [
    {
     "name": "stdout",
     "output_type": "stream",
     "text": [
      "Following knockout genes are not features of gene expression matrix:\n",
      "Fzd1\n",
      "P2rx7\n",
      "Following validation knockout genes are not features of gene expression matrix:\n"
     ]
    }
   ],
   "source": [
    "# 1) why there are only 64 rows in above table? \n",
    "experiment_genes = list(df_obs.condition.unique())\n",
    "expression_genes = list(df_full.columns)\n",
    "print(\"Following knockout genes are not features of gene expression matrix:\")\n",
    "for i in experiment_genes:\n",
    "    if i not in expression_genes and i != \"Unperturbed\":\n",
    "        print(i)\n",
    "\n",
    "print(\"Following validation knockout genes are not features of gene expression matrix:\") \n",
    "for i in held_out:\n",
    "    if i not in expression_genes:\n",
    "        print(i)"
   ]
  },
  {
   "cell_type": "code",
   "execution_count": 14,
   "metadata": {
    "execution": {
     "iopub.execute_input": "2023-01-26T16:27:45.156276Z",
     "iopub.status.busy": "2023-01-26T16:27:45.155774Z",
     "iopub.status.idle": "2023-01-26T16:29:09.838820Z",
     "shell.execute_reply": "2023-01-26T16:29:09.838153Z",
     "shell.execute_reply.started": "2023-01-26T16:27:45.156245Z"
    },
    "tags": []
   },
   "outputs": [],
   "source": [
    "# change: \n",
    "# 2) is there obvious difference between unperturbed gene expression and experimented gene expression? \n",
    "# - difference of gene expression for experimenting genes: \n",
    "import numpy as np\n",
    "\n",
    "# getting the average of gene expression: \n",
    "unpert_av_expr = np.array(adata.X[adata.obs['condition'] == 'Unperturbed'].mean(axis=0))[0]\n",
    "df_unpert_av_expr = pd.DataFrame({'gene_name':list(adata.var_names),\n",
    "                                                  'expr':unpert_av_expr})\n",
    "knockout_map = {\n",
    "    'gene_knockout':[],\n",
    "    'expr':[]\n",
    "}\n",
    "for i in range(adata.X.shape[0]):\n",
    "    knockout = adata.obs.iloc[i]['condition'] # what gene was knocked out \n",
    "    if knockout != \"Unperturbed\":\n",
    "        df = pd.DataFrame({\"gene_name\": list(adata.var_names),\n",
    "                           \"expression\":adata.X[i].toarray()[0]})\n",
    "        expr_l = list(df[df['gene_name'] == knockout]['expression'])\n",
    "        \n",
    "        if len(expr_l) == 0:\n",
    "            continue\n",
    "        knockout_map['gene_knockout'].append(knockout)\n",
    "        knockout_map['expr'].append(expr_l[0])\n",
    "        \n",
    "df_knockout_expr = pd.DataFrame(knockout_map)"
   ]
  },
  {
   "cell_type": "code",
   "execution_count": 15,
   "metadata": {
    "execution": {
     "iopub.execute_input": "2023-01-26T16:29:09.840292Z",
     "iopub.status.busy": "2023-01-26T16:29:09.839962Z",
     "iopub.status.idle": "2023-01-26T16:29:09.860713Z",
     "shell.execute_reply": "2023-01-26T16:29:09.860179Z",
     "shell.execute_reply.started": "2023-01-26T16:29:09.840261Z"
    },
    "tags": []
   },
   "outputs": [],
   "source": [
    "df = df_knockout_expr.merge(df_unpert_av_expr, left_on = \"gene_knockout\", right_on = \"gene_name\")\n",
    "df = df.drop(\"gene_name\", axis = 1)\n",
    "df.columns = [\"gene_knockout\", \"knockout\", \"unperturbed\"]\n",
    "df[\"difference\"] = df[\"knockout\"] - df[\"unperturbed\"]\n",
    "df_sim = df.groupby([\"gene_knockout\"]).agg({\"difference\":[\"mean\", \"std\", \"min\"],\"unperturbed\": \"mean\"})\n",
    "df_sim.columns = [\"mean\", \"std\", \"min\", \"unperturbed\"]\n",
    "df_sim = df_sim.reset_index()"
   ]
  },
  {
   "cell_type": "code",
   "execution_count": 16,
   "metadata": {
    "execution": {
     "iopub.execute_input": "2023-01-26T16:29:09.862075Z",
     "iopub.status.busy": "2023-01-26T16:29:09.861761Z",
     "iopub.status.idle": "2023-01-26T16:29:09.875026Z",
     "shell.execute_reply": "2023-01-26T16:29:09.874335Z",
     "shell.execute_reply.started": "2023-01-26T16:29:09.862046Z"
    },
    "tags": []
   },
   "outputs": [
    {
     "data": {
      "text/html": [
       "<div>\n",
       "<style scoped>\n",
       "    .dataframe tbody tr th:only-of-type {\n",
       "        vertical-align: middle;\n",
       "    }\n",
       "\n",
       "    .dataframe tbody tr th {\n",
       "        vertical-align: top;\n",
       "    }\n",
       "\n",
       "    .dataframe thead th {\n",
       "        text-align: right;\n",
       "    }\n",
       "</style>\n",
       "<table border=\"1\" class=\"dataframe\">\n",
       "  <thead>\n",
       "    <tr style=\"text-align: right;\">\n",
       "      <th></th>\n",
       "      <th>gene_knockout</th>\n",
       "      <th>mean</th>\n",
       "      <th>std</th>\n",
       "      <th>min</th>\n",
       "      <th>unperturbed</th>\n",
       "    </tr>\n",
       "  </thead>\n",
       "  <tbody>\n",
       "    <tr>\n",
       "      <th>0</th>\n",
       "      <td>Arid4b</td>\n",
       "      <td>-0.089009</td>\n",
       "      <td>0.213079</td>\n",
       "      <td>-0.200181</td>\n",
       "      <td>0.200181</td>\n",
       "    </tr>\n",
       "    <tr>\n",
       "      <th>1</th>\n",
       "      <td>Arid5b</td>\n",
       "      <td>-0.098401</td>\n",
       "      <td>0.246979</td>\n",
       "      <td>-0.258835</td>\n",
       "      <td>0.258835</td>\n",
       "    </tr>\n",
       "    <tr>\n",
       "      <th>2</th>\n",
       "      <td>Atf2</td>\n",
       "      <td>-0.033264</td>\n",
       "      <td>0.193099</td>\n",
       "      <td>-0.106787</td>\n",
       "      <td>0.106787</td>\n",
       "    </tr>\n",
       "    <tr>\n",
       "      <th>3</th>\n",
       "      <td>Batf</td>\n",
       "      <td>0.025635</td>\n",
       "      <td>0.393112</td>\n",
       "      <td>-0.304884</td>\n",
       "      <td>0.304884</td>\n",
       "    </tr>\n",
       "    <tr>\n",
       "      <th>4</th>\n",
       "      <td>Crem</td>\n",
       "      <td>0.011709</td>\n",
       "      <td>0.530371</td>\n",
       "      <td>-0.500783</td>\n",
       "      <td>0.500783</td>\n",
       "    </tr>\n",
       "    <tr>\n",
       "      <th>...</th>\n",
       "      <td>...</td>\n",
       "      <td>...</td>\n",
       "      <td>...</td>\n",
       "      <td>...</td>\n",
       "      <td>...</td>\n",
       "    </tr>\n",
       "    <tr>\n",
       "      <th>59</th>\n",
       "      <td>Tox2</td>\n",
       "      <td>-0.003443</td>\n",
       "      <td>0.014520</td>\n",
       "      <td>-0.003892</td>\n",
       "      <td>0.003892</td>\n",
       "    </tr>\n",
       "    <tr>\n",
       "      <th>60</th>\n",
       "      <td>Tpt1</td>\n",
       "      <td>-1.005442</td>\n",
       "      <td>0.806251</td>\n",
       "      <td>-2.784889</td>\n",
       "      <td>3.142535</td>\n",
       "    </tr>\n",
       "    <tr>\n",
       "      <th>61</th>\n",
       "      <td>Yy1</td>\n",
       "      <td>-0.068700</td>\n",
       "      <td>0.312827</td>\n",
       "      <td>-0.263768</td>\n",
       "      <td>0.263768</td>\n",
       "    </tr>\n",
       "    <tr>\n",
       "      <th>62</th>\n",
       "      <td>Zeb2</td>\n",
       "      <td>-0.007539</td>\n",
       "      <td>0.266374</td>\n",
       "      <td>-0.163082</td>\n",
       "      <td>0.163082</td>\n",
       "    </tr>\n",
       "    <tr>\n",
       "      <th>63</th>\n",
       "      <td>Zfp292</td>\n",
       "      <td>0.010533</td>\n",
       "      <td>0.376072</td>\n",
       "      <td>-0.195510</td>\n",
       "      <td>0.195510</td>\n",
       "    </tr>\n",
       "  </tbody>\n",
       "</table>\n",
       "<p>64 rows × 5 columns</p>\n",
       "</div>"
      ],
      "text/plain": [
       "   gene_knockout      mean       std       min  unperturbed\n",
       "0         Arid4b -0.089009  0.213079 -0.200181     0.200181\n",
       "1         Arid5b -0.098401  0.246979 -0.258835     0.258835\n",
       "2           Atf2 -0.033264  0.193099 -0.106787     0.106787\n",
       "3           Batf  0.025635  0.393112 -0.304884     0.304884\n",
       "4           Crem  0.011709  0.530371 -0.500783     0.500783\n",
       "..           ...       ...       ...       ...          ...\n",
       "59          Tox2 -0.003443  0.014520 -0.003892     0.003892\n",
       "60          Tpt1 -1.005442  0.806251 -2.784889     3.142535\n",
       "61           Yy1 -0.068700  0.312827 -0.263768     0.263768\n",
       "62          Zeb2 -0.007539  0.266374 -0.163082     0.163082\n",
       "63        Zfp292  0.010533  0.376072 -0.195510     0.195510\n",
       "\n",
       "[64 rows x 5 columns]"
      ]
     },
     "execution_count": 16,
     "metadata": {},
     "output_type": "execute_result"
    }
   ],
   "source": [
    "df_sim"
   ]
  },
  {
   "cell_type": "code",
   "execution_count": 17,
   "metadata": {
    "execution": {
     "iopub.execute_input": "2023-01-26T16:29:09.876627Z",
     "iopub.status.busy": "2023-01-26T16:29:09.876138Z",
     "iopub.status.idle": "2023-01-26T16:29:09.898086Z",
     "shell.execute_reply": "2023-01-26T16:29:09.897433Z",
     "shell.execute_reply.started": "2023-01-26T16:29:09.876599Z"
    },
    "tags": []
   },
   "outputs": [
    {
     "data": {
      "text/html": [
       "<div>\n",
       "<style scoped>\n",
       "    .dataframe tbody tr th:only-of-type {\n",
       "        vertical-align: middle;\n",
       "    }\n",
       "\n",
       "    .dataframe tbody tr th {\n",
       "        vertical-align: top;\n",
       "    }\n",
       "\n",
       "    .dataframe thead th {\n",
       "        text-align: right;\n",
       "    }\n",
       "</style>\n",
       "<table border=\"1\" class=\"dataframe\">\n",
       "  <thead>\n",
       "    <tr style=\"text-align: right;\">\n",
       "      <th></th>\n",
       "      <th>gene_knockout</th>\n",
       "      <th>knockout</th>\n",
       "      <th>unperturbed_x</th>\n",
       "      <th>difference</th>\n",
       "      <th>mean</th>\n",
       "      <th>std</th>\n",
       "      <th>min</th>\n",
       "      <th>unperturbed_y</th>\n",
       "      <th>mod_difference</th>\n",
       "    </tr>\n",
       "  </thead>\n",
       "  <tbody>\n",
       "    <tr>\n",
       "      <th>0</th>\n",
       "      <td>Tox2</td>\n",
       "      <td>0.000000</td>\n",
       "      <td>0.003892</td>\n",
       "      <td>-0.003892</td>\n",
       "      <td>-0.003443</td>\n",
       "      <td>0.014520</td>\n",
       "      <td>-0.003892</td>\n",
       "      <td>0.003892</td>\n",
       "      <td>0.000000</td>\n",
       "    </tr>\n",
       "    <tr>\n",
       "      <th>1</th>\n",
       "      <td>Tox2</td>\n",
       "      <td>0.000000</td>\n",
       "      <td>0.003892</td>\n",
       "      <td>-0.003892</td>\n",
       "      <td>-0.003443</td>\n",
       "      <td>0.014520</td>\n",
       "      <td>-0.003892</td>\n",
       "      <td>0.003892</td>\n",
       "      <td>0.000000</td>\n",
       "    </tr>\n",
       "    <tr>\n",
       "      <th>2</th>\n",
       "      <td>Tox2</td>\n",
       "      <td>0.000000</td>\n",
       "      <td>0.003892</td>\n",
       "      <td>-0.003892</td>\n",
       "      <td>-0.003443</td>\n",
       "      <td>0.014520</td>\n",
       "      <td>-0.003892</td>\n",
       "      <td>0.003892</td>\n",
       "      <td>0.000000</td>\n",
       "    </tr>\n",
       "    <tr>\n",
       "      <th>3</th>\n",
       "      <td>Tox2</td>\n",
       "      <td>0.000000</td>\n",
       "      <td>0.003892</td>\n",
       "      <td>-0.003892</td>\n",
       "      <td>-0.003443</td>\n",
       "      <td>0.014520</td>\n",
       "      <td>-0.003892</td>\n",
       "      <td>0.003892</td>\n",
       "      <td>0.000000</td>\n",
       "    </tr>\n",
       "    <tr>\n",
       "      <th>4</th>\n",
       "      <td>Tox2</td>\n",
       "      <td>0.000000</td>\n",
       "      <td>0.003892</td>\n",
       "      <td>-0.003892</td>\n",
       "      <td>-0.003443</td>\n",
       "      <td>0.014520</td>\n",
       "      <td>-0.003892</td>\n",
       "      <td>0.003892</td>\n",
       "      <td>0.000000</td>\n",
       "    </tr>\n",
       "    <tr>\n",
       "      <th>...</th>\n",
       "      <td>...</td>\n",
       "      <td>...</td>\n",
       "      <td>...</td>\n",
       "      <td>...</td>\n",
       "      <td>...</td>\n",
       "      <td>...</td>\n",
       "      <td>...</td>\n",
       "      <td>...</td>\n",
       "      <td>...</td>\n",
       "    </tr>\n",
       "    <tr>\n",
       "      <th>23406</th>\n",
       "      <td>Batf</td>\n",
       "      <td>0.000000</td>\n",
       "      <td>0.304884</td>\n",
       "      <td>-0.304884</td>\n",
       "      <td>0.025635</td>\n",
       "      <td>0.393112</td>\n",
       "      <td>-0.304884</td>\n",
       "      <td>0.304884</td>\n",
       "      <td>0.000000</td>\n",
       "    </tr>\n",
       "    <tr>\n",
       "      <th>23407</th>\n",
       "      <td>Tbx21</td>\n",
       "      <td>0.000000</td>\n",
       "      <td>0.456431</td>\n",
       "      <td>-0.456431</td>\n",
       "      <td>-0.328274</td>\n",
       "      <td>0.181241</td>\n",
       "      <td>-0.456431</td>\n",
       "      <td>0.456431</td>\n",
       "      <td>0.000000</td>\n",
       "    </tr>\n",
       "    <tr>\n",
       "      <th>23408</th>\n",
       "      <td>Tbx21</td>\n",
       "      <td>0.256314</td>\n",
       "      <td>0.456431</td>\n",
       "      <td>-0.200116</td>\n",
       "      <td>-0.328274</td>\n",
       "      <td>0.181241</td>\n",
       "      <td>-0.456431</td>\n",
       "      <td>0.456431</td>\n",
       "      <td>0.256314</td>\n",
       "    </tr>\n",
       "    <tr>\n",
       "      <th>23409</th>\n",
       "      <td>Rps6</td>\n",
       "      <td>1.853199</td>\n",
       "      <td>2.402267</td>\n",
       "      <td>-0.549067</td>\n",
       "      <td>-0.573457</td>\n",
       "      <td>0.034491</td>\n",
       "      <td>-0.597846</td>\n",
       "      <td>2.402267</td>\n",
       "      <td>0.048778</td>\n",
       "    </tr>\n",
       "    <tr>\n",
       "      <th>23410</th>\n",
       "      <td>Rps6</td>\n",
       "      <td>1.804421</td>\n",
       "      <td>2.402267</td>\n",
       "      <td>-0.597846</td>\n",
       "      <td>-0.573457</td>\n",
       "      <td>0.034491</td>\n",
       "      <td>-0.597846</td>\n",
       "      <td>2.402267</td>\n",
       "      <td>0.000000</td>\n",
       "    </tr>\n",
       "  </tbody>\n",
       "</table>\n",
       "<p>23411 rows × 9 columns</p>\n",
       "</div>"
      ],
      "text/plain": [
       "      gene_knockout  knockout  unperturbed_x  difference      mean       std  \\\n",
       "0              Tox2  0.000000       0.003892   -0.003892 -0.003443  0.014520   \n",
       "1              Tox2  0.000000       0.003892   -0.003892 -0.003443  0.014520   \n",
       "2              Tox2  0.000000       0.003892   -0.003892 -0.003443  0.014520   \n",
       "3              Tox2  0.000000       0.003892   -0.003892 -0.003443  0.014520   \n",
       "4              Tox2  0.000000       0.003892   -0.003892 -0.003443  0.014520   \n",
       "...             ...       ...            ...         ...       ...       ...   \n",
       "23406          Batf  0.000000       0.304884   -0.304884  0.025635  0.393112   \n",
       "23407         Tbx21  0.000000       0.456431   -0.456431 -0.328274  0.181241   \n",
       "23408         Tbx21  0.256314       0.456431   -0.200116 -0.328274  0.181241   \n",
       "23409          Rps6  1.853199       2.402267   -0.549067 -0.573457  0.034491   \n",
       "23410          Rps6  1.804421       2.402267   -0.597846 -0.573457  0.034491   \n",
       "\n",
       "            min  unperturbed_y  mod_difference  \n",
       "0     -0.003892       0.003892        0.000000  \n",
       "1     -0.003892       0.003892        0.000000  \n",
       "2     -0.003892       0.003892        0.000000  \n",
       "3     -0.003892       0.003892        0.000000  \n",
       "4     -0.003892       0.003892        0.000000  \n",
       "...         ...            ...             ...  \n",
       "23406 -0.304884       0.304884        0.000000  \n",
       "23407 -0.456431       0.456431        0.000000  \n",
       "23408 -0.456431       0.456431        0.256314  \n",
       "23409 -0.597846       2.402267        0.048778  \n",
       "23410 -0.597846       2.402267        0.000000  \n",
       "\n",
       "[23411 rows x 9 columns]"
      ]
     },
     "execution_count": 17,
     "metadata": {},
     "output_type": "execute_result"
    }
   ],
   "source": [
    "df_sim2 = df.merge(df_sim, on = \"gene_knockout\")\n",
    "df_sim2[\"mod_difference\"] = df_sim2[\"difference\"] - df_sim2[\"min\"]\n",
    "df_sim2"
   ]
  },
  {
   "cell_type": "code",
   "execution_count": 18,
   "metadata": {
    "execution": {
     "iopub.execute_input": "2023-01-26T16:29:09.899483Z",
     "iopub.status.busy": "2023-01-26T16:29:09.899191Z",
     "iopub.status.idle": "2023-01-26T16:29:09.930421Z",
     "shell.execute_reply": "2023-01-26T16:29:09.929933Z",
     "shell.execute_reply.started": "2023-01-26T16:29:09.899454Z"
    },
    "tags": []
   },
   "outputs": [],
   "source": [
    "# inspecting the data, the distribution of difference is more likely a gama distribution:\n",
    "import matplotlib.pyplot as plt\n",
    "import seaborn as sns\n",
    "import scipy.stats as stats\n",
    "def knockout_difference_gamma_distribution(gene, plot = True): \n",
    "    dist = df_sim2[df_sim2.gene_knockout == gene]\n",
    "    try:\n",
    "        fit_alpha, fit_loc, fit_beta=stats.gamma.fit(dist.difference)\n",
    "        # plot: \n",
    "        if plot: \n",
    "            sns.displot(dist, x = \"difference\", stat=\"probability\")\n",
    "            start = min(dist.difference)\n",
    "            end = max(dist.difference)\n",
    "            x = np.linspace(start, end, 100)\n",
    "            y = stats.gamma.pdf(x, a = fit_alpha, scale = 1/fit_beta, loc = fit_loc)\n",
    "            plt.ylim([0,1])\n",
    "            plt.plot(x,y)\n",
    "        return {\"alpha\":fit_alpha, \"loc\": fit_loc, \"scale\": 1/fit_beta}\n",
    "    except:\n",
    "        pass"
   ]
  },
  {
   "cell_type": "code",
   "execution_count": 19,
   "metadata": {
    "execution": {
     "iopub.execute_input": "2023-01-26T16:29:09.931764Z",
     "iopub.status.busy": "2023-01-26T16:29:09.931468Z",
     "iopub.status.idle": "2023-01-26T16:29:09.937327Z",
     "shell.execute_reply": "2023-01-26T16:29:09.936677Z",
     "shell.execute_reply.started": "2023-01-26T16:29:09.931736Z"
    },
    "tags": []
   },
   "outputs": [],
   "source": [
    "def knockout_difference_beta_distribution(gene, plot = True): \n",
    "    dist = df_sim2[df_sim2.gene_knockout == gene]\n",
    "    try:\n",
    "        fit_alpha, fit_beta, fit_loc, fit_scale=stats.beta.fit(dist.difference)\n",
    "        # plot: \n",
    "        if plot: \n",
    "            sns.displot(dist, x = \"difference\", stat=\"probability\")\n",
    "            start = min(dist.difference)\n",
    "            end = max(dist.difference)\n",
    "            x = np.linspace(start, end, 100)\n",
    "            y = stats.beta.pdf(x, a = fit_alpha, b = fit_beta, scale = fit_scale, loc = fit_loc)\n",
    "            plt.ylim([0,1])\n",
    "            plt.plot(x,y)\n",
    "        return {\"alpha\":fit_alpha, \"beta\":fit_beta, \"loc\": fit_loc, \"scale\": fit_scale}\n",
    "    except:\n",
    "        pass"
   ]
  },
  {
   "cell_type": "code",
   "execution_count": 20,
   "metadata": {
    "collapsed": true,
    "execution": {
     "iopub.execute_input": "2023-01-26T16:29:09.938801Z",
     "iopub.status.busy": "2023-01-26T16:29:09.938508Z",
     "iopub.status.idle": "2023-01-26T16:29:10.386454Z",
     "shell.execute_reply": "2023-01-26T16:29:10.385819Z",
     "shell.execute_reply.started": "2023-01-26T16:29:09.938773Z"
    },
    "jupyter": {
     "outputs_hidden": true
    },
    "tags": []
   },
   "outputs": [
    {
     "data": {
      "text/plain": [
       "{'alpha': 0.6103007431117962,\n",
       " 'beta': 92.13194647367295,\n",
       " 'loc': -0.16308248043060306,\n",
       " 'scale': 10.946359054240185}"
      ]
     },
     "execution_count": 20,
     "metadata": {},
     "output_type": "execute_result"
    },
    {
     "data": {
      "image/png": "[encoded data removed]",
      "text/plain": [
       "<Figure size 400x400 with 1 Axes>"
      ]
     },
     "metadata": {
      "image/png": {
       "height": 386,
       "width": 382
      }
     },
     "output_type": "display_data"
    }
   ],
   "source": [
    "knockout_difference_beta_distribution(\"Zeb2\", plot = True)"
   ]
  },
  {
   "cell_type": "code",
   "execution_count": 21,
   "metadata": {
    "collapsed": true,
    "execution": {
     "iopub.execute_input": "2023-01-26T16:29:10.387975Z",
     "iopub.status.busy": "2023-01-26T16:29:10.387342Z",
     "iopub.status.idle": "2023-01-26T16:29:10.742815Z",
     "shell.execute_reply": "2023-01-26T16:29:10.742028Z",
     "shell.execute_reply.started": "2023-01-26T16:29:10.387951Z"
    },
    "jupyter": {
     "outputs_hidden": true
    },
    "tags": []
   },
   "outputs": [
    {
     "data": {
      "text/plain": [
       "{'alpha': 0.6537878746193351,\n",
       " 'loc': -1.1022228002548222,\n",
       " 'scale': 1.4418911719821828}"
      ]
     },
     "execution_count": 21,
     "metadata": {},
     "output_type": "execute_result"
    },
    {
     "data": {
      "image/png": "[encoded data removed]",
      "text/plain": [
       "<Figure size 400x400 with 1 Axes>"
      ]
     },
     "metadata": {
      "image/png": {
       "height": 387,
       "width": 362
      }
     },
     "output_type": "display_data"
    }
   ],
   "source": [
    "knockout_difference_gamma_distribution(\"Nr4a2\")"
   ]
  },
  {
   "cell_type": "code",
   "execution_count": 22,
   "metadata": {
    "collapsed": true,
    "execution": {
     "iopub.execute_input": "2023-01-26T16:29:10.744577Z",
     "iopub.status.busy": "2023-01-26T16:29:10.744075Z",
     "iopub.status.idle": "2023-01-26T16:29:17.461732Z",
     "shell.execute_reply": "2023-01-26T16:29:17.461036Z",
     "shell.execute_reply.started": "2023-01-26T16:29:10.744541Z"
    },
    "jupyter": {
     "outputs_hidden": true
    },
    "tags": []
   },
   "outputs": [
    {
     "data": {
      "text/plain": [
       "{'Arid4b': {'alpha': 0.24156951331575688,\n",
       "  'beta': 91.3743265349166,\n",
       "  'loc': -0.20018140971660617,\n",
       "  'scale': 14.348545816967228},\n",
       " 'Arid5b': {'alpha': 0.3660776141150853,\n",
       "  'beta': 503.8398545385317,\n",
       "  'loc': -0.2588345408439637,\n",
       "  'scale': 42.78824751528269},\n",
       " 'Atf2': {'alpha': 0.18576919756573618,\n",
       "  'beta': 162.16503709843425,\n",
       "  'loc': -0.10678739845752717,\n",
       "  'scale': 9.577183746700456},\n",
       " 'Batf': {'alpha': 0.35743371234508375,\n",
       "  'beta': 0.8368176049203419,\n",
       "  'loc': -0.3048836290836335,\n",
       "  'scale': 1.2973645369928133},\n",
       " 'Crem': {'alpha': 0.3214279585410088,\n",
       "  'beta': 6.827146457156709,\n",
       "  'loc': -0.5007827281951905,\n",
       "  'scale': 3.4905958791295415},\n",
       " 'Ctnnb1': {'alpha': 0.21442835917811615,\n",
       "  'beta': 1.3929187317337821,\n",
       "  'loc': -0.25481113791465765,\n",
       "  'scale': 1.4407124880586386},\n",
       " 'Dkk3': {'alpha': 0.925594818676249,\n",
       "  'beta': 1.1462484121959913,\n",
       "  'loc': -9.291413880418987e-05,\n",
       "  'scale': 4.0860027549014616e-06},\n",
       " 'Dvl1': {'alpha': 0.39616323898898503,\n",
       "  'beta': 579.0012192888353,\n",
       "  'loc': -0.018630474805831913,\n",
       "  'scale': 5.171436593232764},\n",
       " 'Dvl2': {'alpha': 0.18682248009465824,\n",
       "  'beta': 230.71886758486653,\n",
       "  'loc': -0.037608850747346885,\n",
       "  'scale': 7.374894862379934},\n",
       " 'Dvl3': {'alpha': 0.5171411545397147,\n",
       "  'beta': 429.05930078636703,\n",
       "  'loc': -0.031542949378490455,\n",
       "  'scale': 14.055753885913825},\n",
       " 'Eef2': {'alpha': 1.0303798912446354,\n",
       "  'beta': 1.0520641538111781,\n",
       "  'loc': -0.31555342674255393,\n",
       "  'scale': 2.332340843175674e-16},\n",
       " 'Egr1': {'alpha': 0.6026547903079283,\n",
       "  'beta': 1.824041557263839,\n",
       "  'loc': -0.22275303304195407,\n",
       "  'scale': 2.658451900032522},\n",
       " 'Elf1': {'alpha': 0.6523071717818287,\n",
       "  'beta': 2.4569349940355183,\n",
       "  'loc': -0.43206807971000677,\n",
       "  'scale': 2.0028952415013546},\n",
       " 'Eomes': {'alpha': 0.44752238547563933,\n",
       "  'beta': 237.9902433304158,\n",
       "  'loc': -0.13492284715175631,\n",
       "  'scale': 1.7460888907561758},\n",
       " 'Ep300': {'alpha': 0.0006138673957057478,\n",
       "  'beta': 0.0037508456863796285,\n",
       "  'loc': -0.13436183333396914,\n",
       "  'scale': 0.5837687587333987},\n",
       " 'Ezh2': {'alpha': 0.29030369813782864,\n",
       "  'beta': 1.6314650837883318,\n",
       "  'loc': -0.322451800107956,\n",
       "  'scale': 1.7362574592511877},\n",
       " 'Foxm1': {'alpha': 0.277172081605283,\n",
       "  'beta': 323.66127273870177,\n",
       "  'loc': -0.03400442749261857,\n",
       "  'scale': 4.832328991345005},\n",
       " 'Foxo1': {'alpha': 0.4657250896269787,\n",
       "  'beta': 2.9980260448027796,\n",
       "  'loc': -0.22725813090801242,\n",
       "  'scale': 2.122268747442146},\n",
       " 'Foxp1': {'alpha': 0.38749122635796274,\n",
       "  'beta': 1.3537646649054378,\n",
       "  'loc': -0.1444244980812073,\n",
       "  'scale': 1.2734312992110173},\n",
       " 'Fzd3': {'alpha': 0.9899920243471434,\n",
       "  'beta': 1.0393951944685846,\n",
       "  'loc': -2.661587125184533e-26,\n",
       "  'scale': 9.609767701594333e-26},\n",
       " 'Fzd6': {'alpha': 1.0441820505420065,\n",
       "  'beta': 1.0255071941925538,\n",
       "  'loc': -0.001967656426131726,\n",
       "  'scale': 8.886187087553522e-19},\n",
       " 'Gsk3b': {'alpha': 0.2194404161107939,\n",
       "  'beta': 1.4862712158261409,\n",
       "  'loc': -0.19504258036613467,\n",
       "  'scale': 1.203611297157177},\n",
       " 'Hif1a': {'alpha': 0.3064930966806446,\n",
       "  'beta': 11.864926671386122,\n",
       "  'loc': -0.5646483302116395,\n",
       "  'scale': 5.450718469924114},\n",
       " 'Hmgb1': {'alpha': 0.6558369836637834,\n",
       "  'beta': 1.6476470382391477,\n",
       "  'loc': -1.7861661911010744,\n",
       "  'scale': 3.1814083061584526},\n",
       " 'Hmgb2': {'alpha': 0.6630473246812612,\n",
       "  'beta': 1.0583151567124593,\n",
       "  'loc': -1.7841509580612185,\n",
       "  'scale': 3.1901697686455037},\n",
       " 'Id2': {'alpha': 0.34952245152765593,\n",
       "  'beta': 2.1907800544876364,\n",
       "  'loc': -1.197307348251343,\n",
       "  'scale': 2.9533016015204225},\n",
       " 'Id3': {'alpha': 0.7294419644746377,\n",
       "  'beta': 194.60380581422012,\n",
       "  'loc': -0.007857983000576498,\n",
       "  'scale': 9.407025997795353},\n",
       " 'Ikzf3': {'alpha': 0.5846077557509297,\n",
       "  'beta': 2.010331241640661,\n",
       "  'loc': -0.3282207846641541,\n",
       "  'scale': 1.6600308144929732},\n",
       " 'Il12rb1': {'alpha': 0.2774870388051607,\n",
       "  'beta': 723.4014006721796,\n",
       "  'loc': -0.08338994532823564,\n",
       "  'scale': 7.3788512390367975},\n",
       " 'Il12rb2': {'alpha': 0.3146522964839207,\n",
       "  'beta': 147.95355131202234,\n",
       "  'loc': -0.13043764233589175,\n",
       "  'scale': 7.196067350033022},\n",
       " 'Irf2': {'alpha': 0.5801083389437998,\n",
       "  'beta': 2.9936272723525335,\n",
       "  'loc': -0.32759964466094976,\n",
       "  'scale': 2.2127850421562356},\n",
       " 'Irf9': {'alpha': 0.28121714832496825,\n",
       "  'beta': 199.38738250593966,\n",
       "  'loc': -0.12351135164499284,\n",
       "  'scale': 5.35549151984174},\n",
       " 'Klf2': {'alpha': 1.0385140418207035,\n",
       "  'beta': 1.016483504369741,\n",
       "  'loc': -0.0576605834066868,\n",
       "  'scale': 1.4097603944069074e-17},\n",
       " 'Ldhb': {'alpha': 0.1363056049254467,\n",
       "  'beta': 1471.0904009085252,\n",
       "  'loc': -0.01225792430341244,\n",
       "  'scale': 6.147927173324936},\n",
       " 'Lef1': {'alpha': 0.39210762228506113,\n",
       "  'beta': 270.26195190949056,\n",
       "  'loc': -0.028739675879478458,\n",
       "  'scale': 10.886609217786518},\n",
       " 'Litaf': {'alpha': 0.7921346322196859,\n",
       "  'beta': 4.511103755602823,\n",
       "  'loc': -1.0014309883117678,\n",
       "  'scale': 3.276072934199675},\n",
       " 'Lrp1': {'alpha': 0.9838071343256568,\n",
       "  'beta': 1.1381860209711674,\n",
       "  'loc': -0.0005087409517727793,\n",
       "  'scale': 1.50304073299197e-19},\n",
       " 'Myb': {'alpha': 0.4855486318920899,\n",
       "  'beta': 1.9186486947242942,\n",
       "  'loc': -0.09916853159666063,\n",
       "  'scale': 1.345459373635809},\n",
       " 'Nr3c1': {'alpha': 0.5458630238562802,\n",
       "  'beta': 395.7320291364745,\n",
       "  'loc': -0.26605221629142767,\n",
       "  'scale': 39.873116227201635},\n",
       " 'Nr4a1': {'alpha': 0.7218437798181508,\n",
       "  'beta': 4.63204454329165,\n",
       "  'loc': -0.4005127847194672,\n",
       "  'scale': 3.6451834693935714},\n",
       " 'Nr4a2': {'alpha': 0.24690085921528296,\n",
       "  'beta': 4.339428498447081,\n",
       "  'loc': -1.102222800254822,\n",
       "  'scale': 5.759051562446885},\n",
       " 'Nr4a3': {'alpha': 0.7478722509954365,\n",
       "  'beta': 3.4230271333095836,\n",
       "  'loc': -0.3886724710464478,\n",
       "  'scale': 2.7970707781403967},\n",
       " 'Oxnad1': {'alpha': 0.3500938501204982,\n",
       "  'beta': 1022.1708700868285,\n",
       "  'loc': -0.03380271792411805,\n",
       "  'scale': 5.317215364509884},\n",
       " 'Prdm1': {'alpha': 0.18649883482053525,\n",
       "  'beta': 221.63389774017986,\n",
       "  'loc': -0.05342966690659524,\n",
       "  'scale': 10.148104637150581},\n",
       " 'Rad21': {'alpha': 0.056075003787852136,\n",
       "  'beta': 0.3355504429861922,\n",
       "  'loc': -0.3796389997005463,\n",
       "  'scale': 0.5858689345090993},\n",
       " 'Rela': {'alpha': 0.1957318564932639,\n",
       "  'beta': 187.80779712558808,\n",
       "  'loc': -0.20490926504135135,\n",
       "  'scale': 24.09581529958878},\n",
       " 'Rps6': {'alpha': 1.1621235985979204,\n",
       "  'beta': 0.9825307807523003,\n",
       "  'loc': -0.6085241676195041,\n",
       "  'scale': 0.05945667036608616},\n",
       " 'Runx2': {'alpha': 0.12908004591482639,\n",
       "  'beta': 5.346895110771763,\n",
       "  'loc': -0.3023634254932404,\n",
       "  'scale': 4.424501974761606},\n",
       " 'Runx3': {'alpha': 0.17383594300171895,\n",
       "  'beta': 0.7994442060778171,\n",
       "  'loc': -0.48307704925537115,\n",
       "  'scale': 1.6268851273452225},\n",
       " 'Satb1': {'alpha': 0.26023073167355015,\n",
       "  'beta': 1.8941144037892639,\n",
       "  'loc': -0.1509538143873215,\n",
       "  'scale': 2.209076455342979},\n",
       " 'Sox4': {'alpha': 0.9600626105958254,\n",
       "  'beta': 1.1203562865286556,\n",
       "  'loc': -0.0007258447585627438,\n",
       "  'scale': 1.2201209674637835e-19},\n",
       " 'Sp100': {'alpha': 0.429923610349481,\n",
       "  'beta': 4.908143861316464,\n",
       "  'loc': -0.49236091971397405,\n",
       "  'scale': 2.8947474950980148},\n",
       " 'Sp140': {'alpha': 0.32504280841826316,\n",
       "  'beta': 174.92986022873293,\n",
       "  'loc': -0.19686286151409152,\n",
       "  'scale': 27.33110610066771},\n",
       " 'Stat4': {'alpha': 0.4983985310862281,\n",
       "  'beta': 1.6916365613303008,\n",
       "  'loc': -0.43312218785285955,\n",
       "  'scale': 2.4931285867919093},\n",
       " 'Sub1': {'alpha': 0.8703630890040726,\n",
       "  'beta': 1.8372929239150022,\n",
       "  'loc': -1.448082208633423,\n",
       "  'scale': 2.3126001817363466},\n",
       " 'Tbx21': {'alpha': 1.497163655782508,\n",
       "  'beta': 0.9235096537629204,\n",
       "  'loc': -0.4816307189780624,\n",
       "  'scale': 0.28151423362077793},\n",
       " 'Tcf3': {'alpha': 0.5122249619503405,\n",
       "  'beta': 142.93306226304514,\n",
       "  'loc': -0.17657996714115146,\n",
       "  'scale': 9.046417429264885},\n",
       " 'Tcf7': {'alpha': 0.29198008167747436,\n",
       "  'beta': 435.3102913017286,\n",
       "  'loc': -0.039140954613685615,\n",
       "  'scale': 19.278542624623874},\n",
       " 'Tox': {'alpha': 0.6242704992300011,\n",
       "  'beta': 1.0773084623128195,\n",
       "  'loc': -0.4007744193077088,\n",
       "  'scale': 1.4969315086726493},\n",
       " 'Tox2': {'alpha': 0.18652687889540914,\n",
       "  'beta': 1552.2244012181698,\n",
       "  'loc': -0.0038923108950257306,\n",
       "  'scale': 1.0526298820789632},\n",
       " 'Tpt1': {'alpha': 1.4598958584684705,\n",
       "  'beta': 0.6897971037236901,\n",
       "  'loc': -3.126896682306628,\n",
       "  'scale': 3.190121474787097},\n",
       " 'Yy1': {'alpha': 0.4083324788379662,\n",
       "  'beta': 2.1017501753012846,\n",
       "  'loc': -0.2637684643268586,\n",
       "  'scale': 1.5128707403708144},\n",
       " 'Zeb2': {'alpha': 0.6103007431117962,\n",
       "  'beta': 92.13194647367295,\n",
       "  'loc': -0.16308248043060306,\n",
       "  'scale': 10.946359054240185},\n",
       " 'Zfp292': {'alpha': 0.20114001145838545,\n",
       "  'beta': 1.0065595552278994,\n",
       "  'loc': -0.19551037251949313,\n",
       "  'scale': 1.9233235239157107}}"
      ]
     },
     "execution_count": 22,
     "metadata": {},
     "output_type": "execute_result"
    }
   ],
   "source": [
    "beta_params = {}\n",
    "\n",
    "for gene in df_sim.gene_knockout:\n",
    "    beta_params[gene] = knockout_difference_beta_distribution(gene, plot = False)\n",
    "\n",
    "beta_params"
   ]
  },
  {
   "cell_type": "code",
   "execution_count": 23,
   "metadata": {
    "execution": {
     "iopub.execute_input": "2023-01-26T16:29:17.462932Z",
     "iopub.status.busy": "2023-01-26T16:29:17.462635Z",
     "iopub.status.idle": "2023-01-26T16:29:17.472559Z",
     "shell.execute_reply": "2023-01-26T16:29:17.471832Z",
     "shell.execute_reply.started": "2023-01-26T16:29:17.462909Z"
    },
    "tags": []
   },
   "outputs": [],
   "source": [
    "import random\n",
    "def simulate_difference(knockout, samplesize=5000, Knn = 3):\n",
    "    # sampling cells from dataset:\n",
    "    df_sample = df_full[controllable_experiment_genes].sample(n = samplesize).transpose()\n",
    "    distance = []\n",
    "    # getting 3 nearest neighbours:\n",
    "    for i in range(len(df_sample)):\n",
    "        dist = sum(sum(np.square(np.array(df_sample.iloc[i,:] - df_sample[df_sample.index == knockout]))))\n",
    "        distance.append(dist)\n",
    "\n",
    "    df_dist = pd.DataFrame({\"gene\": controllable_experiment_genes,\n",
    "                            \"distance\": distance})\n",
    "\n",
    "    nn_genes = df_dist.sort_values(by = [\"distance\"])[1:Knn+1].reset_index()\n",
    "    total_dist = sum(nn_genes.distance)\n",
    "    total_diff = 0\n",
    "    unpert_knock_ave = np.array(df_sim.unperturbed[df_sim.gene_knockout == knockout])\n",
    "    \n",
    "    for i in range(Knn):\n",
    "        # total_diff += sum(df_comparison[df_comparison.index == nn_genes.gene[i]].difference*nn_genes.distance[i])\n",
    "        params = beta_params[nn_genes.gene[i]]\n",
    "        cur = nn_genes.gene[i]\n",
    "        unpert_cur_ave = np.array(df_sim.unperturbed[df_sim.gene_knockout == cur])\n",
    "        \n",
    "        a = params[\"alpha\"]\n",
    "        b = params[\"beta\"]\n",
    "        loc = params[\"loc\"]\n",
    "        scale= params[\"scale\"]\n",
    "        s = stats.beta.rvs(a, b, loc, scale, size=1)\n",
    "        \n",
    "        total_diff += (s*(unpert_knock_ave+1)/(unpert_cur_ave+1))*nn_genes.distance[i]\n",
    "        \n",
    "    sim = sum(total_diff/total_dist)\n",
    "    \n",
    "    return sim, nn_genes"
   ]
  },
  {
   "cell_type": "code",
   "execution_count": 13,
   "metadata": {
    "execution": {
     "iopub.execute_input": "2023-01-27T15:39:54.192566Z",
     "iopub.status.busy": "2023-01-27T15:39:54.192202Z",
     "iopub.status.idle": "2023-01-27T15:39:54.197977Z",
     "shell.execute_reply": "2023-01-27T15:39:54.197259Z",
     "shell.execute_reply.started": "2023-01-27T15:39:54.192540Z"
    },
    "tags": []
   },
   "outputs": [],
   "source": [
    "experiment_genes = list(df_obs.condition.unique())\n",
    "experiment_genes = list(set(experiment_genes).difference({\"Unperturbed\", \"Fzd1\", \"P2rx7\"}))\n",
    "experiment_genes.extend(['Aqr', 'Bach2', 'Bhlhe40', 'Ets1', 'Fosb', 'Mafk', 'Stat3'])\n",
    "len(experiment_genes)\n",
    "\n",
    "validation_test = ['Aqr', 'Bach2', 'Bhlhe40', 'Ets1', 'Fosb', 'Mafk', 'Stat3']\n",
    "validation = ['Aqr', 'Bach2', 'Bhlhe40']\n",
    "test = ['Ets1', 'Fosb', 'Mafk', 'Stat3']\n",
    "controllable_experiment_genes = experiment_genes.copy()"
   ]
  },
  {
   "cell_type": "code",
   "execution_count": 188,
   "metadata": {
    "execution": {
     "iopub.execute_input": "2023-01-27T17:13:49.235473Z",
     "iopub.status.busy": "2023-01-27T17:13:49.234839Z",
     "iopub.status.idle": "2023-01-27T17:13:49.242899Z",
     "shell.execute_reply": "2023-01-27T17:13:49.242195Z",
     "shell.execute_reply.started": "2023-01-27T17:13:49.235443Z"
    },
    "tags": []
   },
   "outputs": [],
   "source": [
    "def simulate_state(knockout, samplesize=5000, Knn = 3, echos = 10):\n",
    "    # sampling cells from dataset:\n",
    "    df_sample = df_full[controllable_experiment_genes].sample(n = samplesize).transpose()\n",
    "    distance = []\n",
    "    # getting 3 nearest neighbours:\n",
    "    for i in range(len(df_sample)):\n",
    "        dist = sum(sum(np.square(np.array(df_sample.iloc[i,:] - df_sample[df_sample.index == knockout]))))\n",
    "        distance.append(dist)\n",
    "\n",
    "    df_dist = pd.DataFrame({\"gene\": controllable_experiment_genes,\n",
    "                            \"distance\": distance})\n",
    "\n",
    "    nn_genes = df_dist.sort_values(by = [\"distance\"]).reset_index()\n",
    "    \n",
    "    total_weight = 0 \n",
    "    state_ratio = 0\n",
    "    var = nn_genes.distance.var()+10\n",
    "    \n",
    "    for e in range(echos): \n",
    "        k = 0\n",
    "        i = 0 \n",
    "    \n",
    "        while k < Knn and i < len(nn_genes):\n",
    "            cur = nn_genes.gene[i]\n",
    "            if cur not in validation_test and cur != knockout:\n",
    "            \n",
    "                k += 1\n",
    "        \n",
    "                weight = np.exp(-nn_genes.distance[i]/(2*var))\n",
    "                total_weight += weight\n",
    "            \n",
    "                state_count = np.array(df_obs[df_obs.condition == cur].groupby(\"state\").state.count())\n",
    "                state_ratio += state_count*weight/sum(state_count)\n",
    "            i = i+1\n",
    "        \n",
    "        \n",
    "    \n",
    "    state_ratio = state_ratio/total_weight\n",
    "    state_name = [\"cycling\", \"effector\", \"other\", \"progenitor\", \"terminal exhausted\"]\n",
    "    state_map = {}\n",
    "    \n",
    "    for i in range(5):\n",
    "        state_map[state_name[i]] = state_ratio[i]\n",
    "        \n",
    "    return state_map"
   ]
  },
  {
   "cell_type": "code",
   "execution_count": 189,
   "metadata": {
    "execution": {
     "iopub.execute_input": "2023-01-27T17:13:49.735009Z",
     "iopub.status.busy": "2023-01-27T17:13:49.734638Z",
     "iopub.status.idle": "2023-01-27T17:13:50.239269Z",
     "shell.execute_reply": "2023-01-27T17:13:50.238439Z",
     "shell.execute_reply.started": "2023-01-27T17:13:49.734984Z"
    },
    "tags": []
   },
   "outputs": [
    {
     "data": {
      "text/html": [
       "<div>\n",
       "<style scoped>\n",
       "    .dataframe tbody tr th:only-of-type {\n",
       "        vertical-align: middle;\n",
       "    }\n",
       "\n",
       "    .dataframe tbody tr th {\n",
       "        vertical-align: top;\n",
       "    }\n",
       "\n",
       "    .dataframe thead th {\n",
       "        text-align: right;\n",
       "    }\n",
       "</style>\n",
       "<table border=\"1\" class=\"dataframe\">\n",
       "  <thead>\n",
       "    <tr style=\"text-align: right;\">\n",
       "      <th></th>\n",
       "      <th>progenitor</th>\n",
       "      <th>effector</th>\n",
       "      <th>terminal exhausted</th>\n",
       "      <th>cycling</th>\n",
       "      <th>other</th>\n",
       "    </tr>\n",
       "  </thead>\n",
       "  <tbody>\n",
       "    <tr>\n",
       "      <th>Litaf</th>\n",
       "      <td>0.490185</td>\n",
       "      <td>0.094847</td>\n",
       "      <td>0.171226</td>\n",
       "      <td>0.233632</td>\n",
       "      <td>0.010110</td>\n",
       "    </tr>\n",
       "    <tr>\n",
       "      <th>Zfp292</th>\n",
       "      <td>0.123980</td>\n",
       "      <td>0.256769</td>\n",
       "      <td>0.250518</td>\n",
       "      <td>0.350350</td>\n",
       "      <td>0.018382</td>\n",
       "    </tr>\n",
       "    <tr>\n",
       "      <th>Rad21</th>\n",
       "      <td>0.224903</td>\n",
       "      <td>0.208444</td>\n",
       "      <td>0.206131</td>\n",
       "      <td>0.343102</td>\n",
       "      <td>0.017420</td>\n",
       "    </tr>\n",
       "  </tbody>\n",
       "</table>\n",
       "</div>"
      ],
      "text/plain": [
       "        progenitor  effector  terminal exhausted   cycling     other\n",
       "Litaf     0.490185  0.094847            0.171226  0.233632  0.010110\n",
       "Zfp292    0.123980  0.256769            0.250518  0.350350  0.018382\n",
       "Rad21     0.224903  0.208444            0.206131  0.343102  0.017420"
      ]
     },
     "execution_count": 189,
     "metadata": {},
     "output_type": "execute_result"
    }
   ],
   "source": [
    "validation_map = {}\n",
    "for v in validation:\n",
    "    vmap = simulate_state(knockout = v, samplesize=5000, Knn = 3)\n",
    "    formal_order = ['progenitor','effector','terminal exhausted','cycling','other']\n",
    "    vlist = []\n",
    "    for i in range(5):\n",
    "        vlist.append(vmap[formal_order[i]])\n",
    "    validation_map[v] = vlist \n",
    "        \n",
    "validation_output = pd.DataFrame(validation_map).transpose()\n",
    "validation_output.columns = formal_order\n",
    "validation_output"
   ]
  },
  {
   "cell_type": "code",
   "execution_count": 190,
   "metadata": {
    "execution": {
     "iopub.execute_input": "2023-01-27T17:13:50.635711Z",
     "iopub.status.busy": "2023-01-27T17:13:50.635350Z",
     "iopub.status.idle": "2023-01-27T17:13:50.638857Z",
     "shell.execute_reply": "2023-01-27T17:13:50.638149Z",
     "shell.execute_reply.started": "2023-01-27T17:13:50.635685Z"
    },
    "tags": []
   },
   "outputs": [],
   "source": [
    "# validation_output.to_csv(\"validation_output.csv\")"
   ]
  },
  {
   "cell_type": "code",
   "execution_count": 191,
   "metadata": {
    "execution": {
     "iopub.execute_input": "2023-01-27T17:13:54.344345Z",
     "iopub.status.busy": "2023-01-27T17:13:54.343974Z",
     "iopub.status.idle": "2023-01-27T17:13:54.819206Z",
     "shell.execute_reply": "2023-01-27T17:13:54.818390Z",
     "shell.execute_reply.started": "2023-01-27T17:13:54.344319Z"
    },
    "tags": []
   },
   "outputs": [
    {
     "data": {
      "text/html": [
       "<div>\n",
       "<style scoped>\n",
       "    .dataframe tbody tr th:only-of-type {\n",
       "        vertical-align: middle;\n",
       "    }\n",
       "\n",
       "    .dataframe tbody tr th {\n",
       "        vertical-align: top;\n",
       "    }\n",
       "\n",
       "    .dataframe thead th {\n",
       "        text-align: right;\n",
       "    }\n",
       "</style>\n",
       "<table border=\"1\" class=\"dataframe\">\n",
       "  <thead>\n",
       "    <tr style=\"text-align: right;\">\n",
       "      <th></th>\n",
       "      <th>progenitor</th>\n",
       "      <th>effector</th>\n",
       "      <th>terminal exhausted</th>\n",
       "      <th>cycling</th>\n",
       "      <th>other</th>\n",
       "    </tr>\n",
       "  </thead>\n",
       "  <tbody>\n",
       "    <tr>\n",
       "      <th>Hmgb2</th>\n",
       "      <td>0.394511</td>\n",
       "      <td>0.141602</td>\n",
       "      <td>0.214283</td>\n",
       "      <td>0.238439</td>\n",
       "      <td>0.011165</td>\n",
       "    </tr>\n",
       "    <tr>\n",
       "      <th>Nr4a1</th>\n",
       "      <td>0.347980</td>\n",
       "      <td>0.159726</td>\n",
       "      <td>0.181516</td>\n",
       "      <td>0.293359</td>\n",
       "      <td>0.017420</td>\n",
       "    </tr>\n",
       "    <tr>\n",
       "      <th>Sp100</th>\n",
       "      <td>0.115887</td>\n",
       "      <td>0.250159</td>\n",
       "      <td>0.280615</td>\n",
       "      <td>0.338696</td>\n",
       "      <td>0.014642</td>\n",
       "    </tr>\n",
       "  </tbody>\n",
       "</table>\n",
       "</div>"
      ],
      "text/plain": [
       "       progenitor  effector  terminal exhausted   cycling     other\n",
       "Hmgb2    0.394511  0.141602            0.214283  0.238439  0.011165\n",
       "Nr4a1    0.347980  0.159726            0.181516  0.293359  0.017420\n",
       "Sp100    0.115887  0.250159            0.280615  0.338696  0.014642"
      ]
     },
     "execution_count": 191,
     "metadata": {},
     "output_type": "execute_result"
    }
   ],
   "source": [
    "test_map = {}\n",
    "for t in test:\n",
    "    tmap = simulate_state(knockout = t, samplesize=5000, Knn = 3)\n",
    "    formal_order = ['progenitor','effector','terminal exhausted','cycling','other']\n",
    "    tlist = []\n",
    "    for i in range(5):\n",
    "        tlist.append(tmap[formal_order[i]])\n",
    "    test_map[t] = tlist \n",
    "        \n",
    "test_output = pd.DataFrame(test_map).transpose()\n",
    "test_output.columns = formal_order\n",
    "test_output"
   ]
  },
  {
   "cell_type": "code",
   "execution_count": 192,
   "metadata": {
    "execution": {
     "iopub.execute_input": "2023-01-27T17:13:57.142766Z",
     "iopub.status.busy": "2023-01-27T17:13:57.142389Z",
     "iopub.status.idle": "2023-01-27T17:13:57.145975Z",
     "shell.execute_reply": "2023-01-27T17:13:57.145243Z",
     "shell.execute_reply.started": "2023-01-27T17:13:57.142738Z"
    },
    "tags": []
   },
   "outputs": [],
   "source": [
    "# test_output.to_csv(\"test_output.csv\")"
   ]
  },
  {
   "cell_type": "markdown",
   "metadata": {},
   "source": [
    "### Jan 25, 2023\n",
    "\n",
    "## Random Forest to get most important genes for cell state: "
   ]
  },
  {
   "cell_type": "code",
   "execution_count": 29,
   "metadata": {
    "execution": {
     "iopub.execute_input": "2023-01-26T16:30:02.715230Z",
     "iopub.status.busy": "2023-01-26T16:30:02.714863Z",
     "iopub.status.idle": "2023-01-26T16:32:00.784945Z",
     "shell.execute_reply": "2023-01-26T16:32:00.784105Z",
     "shell.execute_reply.started": "2023-01-26T16:30:02.715205Z"
    },
    "tags": []
   },
   "outputs": [
    {
     "name": "stdout",
     "output_type": "stream",
     "text": [
      "Training Scoring: 1.0\n",
      "Test Scoring: 0.9169337979094077\n"
     ]
    }
   ],
   "source": [
    "# 1.1 getting all genes' importance value\n",
    "X = df_full\n",
    "y = df_obs[\"state\"]\n",
    "from sklearn.model_selection import train_test_split\n",
    "X_train, X_test, y_train, y_test = train_test_split(X,y, random_state=42)\n",
    "\n",
    "from sklearn.ensemble import RandomForestClassifier\n",
    "rfc = RandomForestClassifier(n_estimators= 100)\n",
    "rfc.fit(X_train, y_train)\n",
    "print(f\"Training Scoring: {rfc.score(X_train, y_train)}\")\n",
    "print(f\"Test Scoring: {rfc.score(X_test, y_test)}\")"
   ]
  },
  {
   "cell_type": "code",
   "execution_count": 30,
   "metadata": {
    "execution": {
     "iopub.execute_input": "2023-01-26T16:32:00.787163Z",
     "iopub.status.busy": "2023-01-26T16:32:00.786623Z",
     "iopub.status.idle": "2023-01-26T16:32:00.828256Z",
     "shell.execute_reply": "2023-01-26T16:32:00.827664Z",
     "shell.execute_reply.started": "2023-01-26T16:32:00.787130Z"
    },
    "tags": []
   },
   "outputs": [],
   "source": [
    "# 1.2 getting top important gene\n",
    "importances = rfc.feature_importances_\n",
    "important_genes = pd.DataFrame({\"Genome\": df_full.columns,\n",
    "                                \"Importance\": importances})\n",
    "top100_genomes = list(important_genes.sort_values(by = [\"Importance\"], ascending= False).iloc[0:100,].Genome)"
   ]
  },
  {
   "cell_type": "code",
   "execution_count": 31,
   "metadata": {
    "execution": {
     "iopub.execute_input": "2023-01-26T16:32:00.829714Z",
     "iopub.status.busy": "2023-01-26T16:32:00.829349Z",
     "iopub.status.idle": "2023-01-26T16:32:00.920848Z",
     "shell.execute_reply": "2023-01-26T16:32:00.920227Z",
     "shell.execute_reply.started": "2023-01-26T16:32:00.829682Z"
    },
    "tags": []
   },
   "outputs": [],
   "source": [
    "inspect_genes = set(top100_genomes).union(set(experiment_genes))\n",
    "df_inspect = df_full[inspect_genes]\n",
    "df_top100 =  df_full[top100_genomes]"
   ]
  },
  {
   "cell_type": "code",
   "execution_count": 32,
   "metadata": {
    "execution": {
     "iopub.execute_input": "2023-01-26T16:32:00.922857Z",
     "iopub.status.busy": "2023-01-26T16:32:00.922524Z",
     "iopub.status.idle": "2023-01-26T16:32:21.787400Z",
     "shell.execute_reply": "2023-01-26T16:32:21.786602Z",
     "shell.execute_reply.started": "2023-01-26T16:32:00.922826Z"
    },
    "tags": []
   },
   "outputs": [
    {
     "name": "stdout",
     "output_type": "stream",
     "text": [
      "Training Scoring: 1.0\n",
      "Test Scoring: 0.9389547038327526\n"
     ]
    }
   ],
   "source": [
    "# 1.2 getting top100 importance value\n",
    "X = df_inspect\n",
    "y = df_obs[\"state\"]\n",
    "from sklearn.model_selection import train_test_split\n",
    "X_train, X_test, y_train, y_test = train_test_split(X,y, random_state=42)\n",
    "\n",
    "from sklearn.ensemble import RandomForestClassifier\n",
    "rfc = RandomForestClassifier(n_estimators= 100)\n",
    "rfc.fit(X_train, y_train)\n",
    "print(f\"Training Scoring: {rfc.score(X_train, y_train)}\")\n",
    "print(f\"Test Scoring: {rfc.score(X_test, y_test)}\")"
   ]
  },
  {
   "cell_type": "code",
   "execution_count": 33,
   "metadata": {
    "execution": {
     "iopub.execute_input": "2023-01-26T16:32:21.789168Z",
     "iopub.status.busy": "2023-01-26T16:32:21.788650Z",
     "iopub.status.idle": "2023-01-26T16:32:23.989545Z",
     "shell.execute_reply": "2023-01-26T16:32:23.988615Z",
     "shell.execute_reply.started": "2023-01-26T16:32:21.789135Z"
    },
    "tags": []
   },
   "outputs": [],
   "source": [
    "# 2.1 clustering all inspected genes include top 100 gene and experiment gene\n",
    "\n",
    "## K-means: \n",
    "\n",
    "X_gene = df_inspect.transpose()\n",
    "from sklearn.cluster import KMeans \n",
    "\n",
    "kmeans = KMeans(n_clusters = 10, random_state = 42).fit(X_gene)"
   ]
  },
  {
   "cell_type": "code",
   "execution_count": 34,
   "metadata": {
    "execution": {
     "iopub.execute_input": "2023-01-26T16:32:23.994741Z",
     "iopub.status.busy": "2023-01-26T16:32:23.994116Z",
     "iopub.status.idle": "2023-01-26T16:32:24.048248Z",
     "shell.execute_reply": "2023-01-26T16:32:24.047625Z",
     "shell.execute_reply.started": "2023-01-26T16:32:23.994704Z"
    },
    "tags": []
   },
   "outputs": [
    {
     "data": {
      "text/plain": [
       "label\n",
       "0    10\n",
       "1    42\n",
       "2     6\n",
       "3    11\n",
       "4    10\n",
       "5     3\n",
       "6    60\n",
       "7    17\n",
       "8     8\n",
       "9     1\n",
       "Name: label, dtype: int64"
      ]
     },
     "execution_count": 34,
     "metadata": {},
     "output_type": "execute_result"
    }
   ],
   "source": [
    "X_gene[\"label\"] = kmeans.labels_\n",
    "X_gene.groupby(\"label\").label.count()"
   ]
  },
  {
   "cell_type": "code",
   "execution_count": 35,
   "metadata": {
    "execution": {
     "iopub.execute_input": "2023-01-26T16:32:24.060389Z",
     "iopub.status.busy": "2023-01-26T16:32:24.058130Z",
     "iopub.status.idle": "2023-01-26T16:32:24.145689Z",
     "shell.execute_reply": "2023-01-26T16:32:24.145014Z",
     "shell.execute_reply.started": "2023-01-26T16:32:24.060259Z"
    },
    "tags": []
   },
   "outputs": [
    {
     "name": "stdout",
     "output_type": "stream",
     "text": [
      "Training Scoring: 0.03018432981808339\n",
      "Test Scoring: 0.03693876015489417\n"
     ]
    }
   ],
   "source": [
    "X_experiment_genes = X_gene[X_gene.index.isin(experiment_genes)]\n",
    "experiment_genes_g1 = X_experiment_genes[X_experiment_genes[\"label\"] == 0].index\n",
    "full_genes_g1 = X_gene[X_gene[\"label\"] == 0].index\n",
    "determ_genes_g1 = set(full_genes_g1).difference(experiment_genes_g1)\n",
    "X_g1 = df_full[determ_genes_g1]\n",
    "y_g1 = df_full[\"Ikzf3\"]\n",
    "\n",
    "from sklearn.linear_model import Ridge\n",
    "X_train, X_test, y_train, y_test  = train_test_split(X_g1,y_g1, random_state=42)\n",
    "rid = Ridge()\n",
    "rid.fit(X_train, y_train)\n",
    "print(f\"Training Scoring: {rid.score(X_train, y_train)}\")\n",
    "print(f\"Test Scoring: {rid.score(X_test, y_test)}\")"
   ]
  },
  {
   "cell_type": "markdown",
   "metadata": {},
   "source": [
    "## The Correlation Method"
   ]
  },
  {
   "cell_type": "code",
   "execution_count": 111,
   "metadata": {
    "execution": {
     "iopub.execute_input": "2023-01-27T16:47:49.040916Z",
     "iopub.status.busy": "2023-01-27T16:47:49.040530Z",
     "iopub.status.idle": "2023-01-27T16:47:49.050282Z",
     "shell.execute_reply": "2023-01-27T16:47:49.049618Z",
     "shell.execute_reply.started": "2023-01-27T16:47:49.040889Z"
    },
    "tags": []
   },
   "outputs": [],
   "source": [
    "from random import sample\n",
    "import numpy as np\n",
    "\n",
    "def Method_corr(sampling = True, pinpoint = None):\n",
    "    X_experiment = df_full[experiment_genes]\n",
    "    X_corr = X_experiment.corr()\n",
    "    final_test = set(['Aqr', 'Bach2', 'Bhlhe40', 'Ets1', 'Fosb', 'Mafk', 'Stat3'])\n",
    "    train_base = list(set(experiment_genes).difference(final_test))\n",
    "    \n",
    "    if sampling:\n",
    "        if pinpoint:\n",
    "            test = pinpoint\n",
    "        else:\n",
    "            test = sample(train_base, 3)\n",
    "            \n",
    "        train = list(set(train_base).difference(set(test)))\n",
    "        X_test = cell_state_distr(test)\n",
    "        \n",
    "    else: \n",
    "        train = train_base\n",
    "        test =final_test\n",
    "    \n",
    "    X_p_corr = X_corr[X_corr.index.isin(test)][train]\n",
    "    X_state = cell_state_distr(train)\n",
    "    \n",
    "    test = np.dot(np.array(X_p_corr), np.array(X_state))\n",
    "    if sample:\n",
    "        Loss = sum(sum(np.abs(np.array(X_test)-test)))/3\n",
    "        return Loss\n",
    "\n",
    "\n",
    "def cell_state_distr(gene_list):\n",
    "    knockout_cell_state = {}\n",
    "    for gene in gene_list:\n",
    "        X_t = df_obs[df_obs[\"condition\"]==gene].groupby(\"state\")\n",
    "        total = sum(X_t.state.count())\n",
    "        ratio = X_t.state.count()/total\n",
    "        knockout_cell_state[gene] = list(ratio)\n",
    "    \n",
    "    return pd.DataFrame(knockout_cell_state).transpose()"
   ]
  },
  {
   "cell_type": "code",
   "execution_count": 110,
   "metadata": {
    "execution": {
     "iopub.execute_input": "2023-01-27T16:40:10.852720Z",
     "iopub.status.busy": "2023-01-27T16:40:10.852347Z",
     "iopub.status.idle": "2023-01-27T16:41:40.700403Z",
     "shell.execute_reply": "2023-01-27T16:41:40.699698Z",
     "shell.execute_reply.started": "2023-01-27T16:40:10.852695Z"
    },
    "tags": []
   },
   "outputs": [
    {
     "name": "stdout",
     "output_type": "stream",
     "text": [
      "The average loss is 0.732588281233977\n",
      "There are 15 losses larger than 1\n"
     ]
    }
   ],
   "source": [
    "total_loss = 0\n",
    "bad = 0\n",
    "for e in range(0,200):\n",
    "    loss = Method_corr(sampling = True)\n",
    "    total_loss += loss\n",
    "    if loss>1:\n",
    "        bad = bad+1\n",
    "\n",
    "mean_loss = total_loss/200\n",
    "print(f\"The average loss is {mean_loss}\")\n",
    "print(f\"There are {bad} losses larger than 1\")"
   ]
  },
  {
   "cell_type": "code",
   "execution_count": null,
   "metadata": {},
   "outputs": [],
   "source": [
    "\"\"\"\n",
    "The output is in this order: \n",
    "\n",
    "cycling\n",
    "effector             \n",
    "other                 \n",
    "progenitor            \n",
    "terminal exhausted\n",
    "\"\"\" "
   ]
  },
  {
   "cell_type": "code",
   "execution_count": 113,
   "metadata": {
    "execution": {
     "iopub.execute_input": "2023-01-27T16:48:41.764064Z",
     "iopub.status.busy": "2023-01-27T16:48:41.763697Z",
     "iopub.status.idle": "2023-01-27T16:48:41.771507Z",
     "shell.execute_reply": "2023-01-27T16:48:41.770727Z",
     "shell.execute_reply.started": "2023-01-27T16:48:41.764038Z"
    },
    "tags": []
   },
   "outputs": [],
   "source": [
    "def simulate_state_ratio(knockout, samplesize=5000, Knn = 3, echos = 10):\n",
    "    # sampling cells from dataset:\n",
    "    df_sample = df_full[controllable_experiment_genes].sample(n = samplesize).transpose()\n",
    "    distance = []\n",
    "    # getting 3 nearest neighbours:\n",
    "    for i in range(len(df_sample)):\n",
    "        dist = sum(sum(np.square(np.array(df_sample.iloc[i,:] - df_sample[df_sample.index == knockout]))))\n",
    "        distance.append(dist)\n",
    "\n",
    "    df_dist = pd.DataFrame({\"gene\": controllable_experiment_genes,\n",
    "                            \"distance\": distance})\n",
    "\n",
    "    nn_genes = df_dist.sort_values(by = [\"distance\"]).reset_index()\n",
    "    \n",
    "    total_weight = 0 \n",
    "    state_ratio = 0\n",
    "    var = nn_genes.distance.var()+10\n",
    "    \n",
    "    for e in range(echos): \n",
    "        k = 0\n",
    "        i = 0 \n",
    "    \n",
    "        while k < Knn and i < len(nn_genes):\n",
    "            cur = nn_genes.gene[i]\n",
    "            if cur not in validation_test and cur != knockout:\n",
    "            \n",
    "                k += 1\n",
    "        \n",
    "                weight = np.exp(-nn_genes.distance[i]/(2*var))\n",
    "                total_weight += weight\n",
    "            \n",
    "                state_count = np.array(df_obs[df_obs.condition == cur].groupby(\"state\").state.count())\n",
    "                state_ratio += state_count*weight/sum(state_count)\n",
    "            i = i+1\n",
    "        \n",
    "        \n",
    "    \n",
    "    state_ratio = state_ratio/total_weight\n",
    "    #state_name = [\"cycling\", \"effector\", \"other\", \"progenitor\", \"terminal exhausted\"]\n",
    "    #state_map = {}\n",
    "    \n",
    "    #for i in range(5):\n",
    "        #state_map[state_name[i]] = state_ratio[i]\n",
    "        \n",
    "    return state_ratio"
   ]
  },
  {
   "cell_type": "markdown",
   "metadata": {},
   "source": [
    "## Compare Two Methods: "
   ]
  },
  {
   "cell_type": "code",
   "execution_count": 187,
   "metadata": {
    "execution": {
     "iopub.execute_input": "2023-01-27T17:10:25.683429Z",
     "iopub.status.busy": "2023-01-27T17:10:25.682930Z",
     "iopub.status.idle": "2023-01-27T17:10:26.666325Z",
     "shell.execute_reply": "2023-01-27T17:10:26.665196Z",
     "shell.execute_reply.started": "2023-01-27T17:10:25.683403Z"
    },
    "tags": []
   },
   "outputs": [
    {
     "name": "stdout",
     "output_type": "stream",
     "text": [
      "The sample cases are ['Litaf', 'Zfp292', 'Rad21']\n",
      "The Correlation Method gives average L1 loss as: \n",
      "0.6901022523311994\n",
      "==========================================\n",
      "The KNN Method gives average L1 loss as: \n",
      "0.7003670659949321\n"
     ]
    }
   ],
   "source": [
    "train_base = list(set(experiment_genes).difference(final_test))\n",
    "sample_case = sample(train_base, 3)\n",
    "print(f\"The sample cases are {sample_case}\")\n",
    "\n",
    "print(\"The Correlation Method gives average L1 loss as: \")\n",
    "print(Method_corr(sampling = True, pinpoint = sample_case))\n",
    "\n",
    "print(\"==========================================\")\n",
    "\n",
    "validation = sample_case\n",
    "X_test = cell_state_distr(validation)\n",
    "final_result = []\n",
    "for v in validation:\n",
    "    vmap = simulate_state_ratio(knockout = v, samplesize=5000, Knn = 3)\n",
    "    final_result.append(vmap)\n",
    "    \n",
    "test_sim = np.array(final_result)\n",
    "Loss = sum(sum(np.abs(np.array(X_test)-test_sim)))/3\n",
    "print(\"The KNN Method gives average L1 loss as: \")\n",
    "print(Loss)"
   ]
  }
 ],
 "metadata": {
  "kernelspec": {
   "display_name": "saturn (Python 3)",
   "language": "python",
   "name": "python3"
  },
  "language_info": {
   "codemirror_mode": {
    "name": "ipython",
    "version": 3
   },
   "file_extension": ".py",
   "mimetype": "text/x-python",
   "name": "python",
   "nbconvert_exporter": "python",
   "pygments_lexer": "ipython3",
   "version": "3.9.12"
  },
  "vscode": {
   "interpreter": {
    "hash": "7ce8bd19ed33f77ab2421ad62460998e4b3babb101e77c67d4edf3f788abbf4b"
   }
  }
 },
 "nbformat": 4,
 "nbformat_minor": 4
}
